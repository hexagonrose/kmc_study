{
 "cells": [
  {
   "cell_type": "markdown",
   "metadata": {},
   "source": [
    "## Library\n",
    "---"
   ]
  },
  {
   "cell_type": "code",
   "execution_count": 127,
   "metadata": {},
   "outputs": [],
   "source": [
    "import os\n",
    "import time\n",
    "import numpy as np\n",
    "from ase import Atoms, neighborlist, Atom\n",
    "from ase.io import write\n",
    "from ase.lattice.cubic import FaceCenteredCubic"
   ]
  },
  {
   "cell_type": "markdown",
   "metadata": {},
   "source": [
    "## Algorithm\n",
    "---"
   ]
  },
  {
   "cell_type": "code",
   "execution_count": 2,
   "metadata": {},
   "outputs": [],
   "source": [
    "'''\n",
    "site energy -> activation energy -> diffusion rate\n",
    "\n",
    "site energy(E_i) = -N*(E_b)/2\n",
    "\n",
    "activation energy(E_a) = E_0 + alpha * E_r\n",
    "E_r = E_i(end) - E_i(start)\n",
    "\n",
    "diffusion rate = f*exp(-E_a/(k*T)) (Arrhenius)\n",
    "f is ~ 10^13 for most metals\n",
    "'''\n",
    "\n",
    "def get_site_energy(bond_energy, bond_num):\n",
    "    return -bond_num * bond_energy/2\n",
    "\n",
    "def get_activation_energy(e_start, e_end, alpha = 0.1, e0 = 0):\n",
    "    e_reaction = e_end-e_start\n",
    "    if e_reaction>=0:\n",
    "        return e0 + (1+alpha)*e_reaction\n",
    "    else:\n",
    "        return e0 + alpha*e_reaction\n",
    "\n",
    "def get_diffusion_rate(e_a, T=300, f=1E13):\n",
    "    k_B = 8.617333262145e-5  # Boltzmann constant in eV/K\n",
    "    return f*np.exp(-e_a/(k_B*T))"
   ]
  },
  {
   "cell_type": "code",
   "execution_count": 229,
   "metadata": {},
   "outputs": [],
   "source": [
    "# function to create fcc lattice\n",
    "def create_fcc_lattice(symbol, lattice_constant, repetitions):\n",
    "    \"\"\"\n",
    "    Create an FCC lattice of atoms.\n",
    "\n",
    "    Args:\n",
    "    - symbol: The chemical symbol of the atoms.\n",
    "    - lattice_constant: The lattice constant of the FCC lattice.\n",
    "    - repetitions: The number of repetitions of the unit cell in each direction.\n",
    "                [x, y, z]\n",
    "    - vacuum: The thickness of the vacuum layer outside the plane perpendicular to the z-axis.\n",
    "\n",
    "    Returns:\n",
    "    - An Atoms object representing the FCC lattice.\n",
    "    \"\"\"\n",
    "\n",
    "    # Define the positions of the atoms in the unit cell\n",
    "    positions = [[0, 0, 0],\n",
    "                 [0.5, 0.5, 0],\n",
    "                 [0.5, 0, 0.5],\n",
    "                 [0, 0.5, 0.5]]\n",
    "\n",
    "    # Scale the positions by the lattice constant\n",
    "    positions = [[x * lattice_constant for x in pos] for pos in positions]\n",
    "\n",
    "    # Create the FCC lattice\n",
    "    fcc_lattice = Atoms([symbol] * 4, positions=positions, cell=[lattice_constant] * 3, pbc=[True, True, False])\n",
    "\n",
    "    # Repeat the unit cell in x and y directions\n",
    "    fcc_lattice *= repetitions\n",
    "\n",
    "    return fcc_lattice\n"
   ]
  },
  {
   "cell_type": "code",
   "execution_count": 87,
   "metadata": {},
   "outputs": [],
   "source": [
    "# function to find the closest neighbors of a vacancy\n",
    "\n",
    "def get_closest_neighbors(lattice, vacancy_index):\n",
    "    \"\"\"\n",
    "    Get the indices of the closest neighboring atoms to a vacancy in a lattice.\n",
    "\n",
    "    Args:\n",
    "    - lattice: The lattice containing the vacancy and neighboring atoms.\n",
    "    - vacancy_index: The index of the vacancy in the lattice.\n",
    "    - num_neighbors: The number of neighboring atoms to return.\n",
    "\n",
    "    Returns:\n",
    "    - A list of the indices of the closest neighboring atoms to the vacancy.\n",
    "    \"\"\"\n",
    "    # Create a neighbor list\n",
    "    cutoff = neighborlist.natural_cutoffs(lattice)\n",
    "    nl = neighborlist.NeighborList(cutoff, self_interaction=False, bothways=True)\n",
    "    nl.update(lattice)\n",
    "\n",
    "    # Get the indices of the atoms that are neighbors to the vacancy\n",
    "    indices, offsets = nl.get_neighbors(vacancy_index)\n",
    "\n",
    "    return indices\n",
    "\n"
   ]
  },
  {
   "cell_type": "code",
   "execution_count": 237,
   "metadata": {},
   "outputs": [],
   "source": [
    "# function to diffusion of a vacancy\n",
    "\n",
    "def find_candidate(lattice):\n",
    "    global diffusion_rate\n",
    "\n",
    "    candidate_table = []    # list of candidate atoms. element: [start_pos, end_pos]\n",
    "    diffusion_table = []    # list of diffusion rate. Indices corresponding to the candidate_table  element: diffusion rate\n",
    "\n",
    "    # 1. find a candididate\n",
    "    vacancy_indices = lattice.symbols.search('X')\n",
    "    for vac_idx in vacancy_indices:\n",
    "        lattice[vac_idx].symbol = 'Cu'\n",
    "        candidate_idx = get_closest_neighbors(lattice, vac_idx)\n",
    "        lattice[vac_idx].symbol = 'X'\n",
    "        end_point_bond_num = len(candidate_idx)-1\n",
    "\n",
    "        # 2. modify event table\n",
    "        for idx in candidate_idx:\n",
    "            # position\n",
    "            candidate_table.append([idx, vac_idx])\n",
    "\n",
    "            # diffusion rate\n",
    "            start_point_bond_num = len(get_closest_neighbors(lattice, idx))\n",
    "            diffusion_table.append(diffusion_rate[start_point_bond_num][end_point_bond_num])\n",
    "    \n",
    "    return candidate_table, diffusion_table\n",
    "\n",
    "def diffuse_one_step(lattice):\n",
    "    global time_elapsed\n",
    "\n",
    "    # 1. find a candidate\n",
    "    candidate_table, diffusion_table = find_candidate(lattice)\n",
    "    diffusion_table = np.array(diffusion_table)\n",
    "    total_diffusion_rate = diffusion_table.sum()\n",
    "\n",
    "    # 2. pick random numbers\n",
    "    u = np.random.uniform(low=1e-6, high=1)\n",
    "    u_time = np.random.uniform(low=1e-6, high=1)\n",
    "    cum_dif = np.cumsum(diffusion_table)\n",
    "    chosen_idx = np.argwhere(u*total_diffusion_rate < cum_dif)[0][0]\n",
    "    # print(chosen_idx)\n",
    "\n",
    "    # 3. time update\n",
    "    delta_t = -np.log(u_time)/total_diffusion_rate\n",
    "    time_elapsed += delta_t\n",
    "\n",
    "    # 4. diffusion(swap the position of atom 'A' and vacancy 'X')\n",
    "    start_idx = candidate_table[chosen_idx][0]\n",
    "    end_idx = candidate_table[chosen_idx][1]\n",
    "    start_pos = lattice[start_idx].position.copy()\n",
    "    end_pos = lattice[end_idx].position\n",
    "    \n",
    "    lattice[start_idx].position = end_pos\n",
    "    lattice[end_idx].position = start_pos\n",
    "    "
   ]
  },
  {
   "cell_type": "markdown",
   "metadata": {},
   "source": []
  },
  {
   "cell_type": "markdown",
   "metadata": {},
   "source": [
    "## Parameter setting\n",
    "---"
   ]
  },
  {
   "cell_type": "code",
   "execution_count": 219,
   "metadata": {},
   "outputs": [],
   "source": [
    "# parameter for diffusion rate\n",
    "'''\n",
    "bond energy : 200kJ/mol ~~ 2.07 eV/particle\n",
    "fcc -> 12 nearest neighbors\n",
    "'''\n",
    "bond_energy = 2.07 \n",
    "temperature = 500\n",
    "e0 = 0.1\n",
    "num_closest_neighbors = 12\n",
    "\n",
    "# site energy, e_(bond number)\n",
    "e_site = np.zeros(num_closest_neighbors)\n",
    "for i in range(num_closest_neighbors):\n",
    "    e_site[i] = get_site_energy(bond_energy, i)\n",
    "\n",
    "# activation energy, e_a_(start to end)\n",
    "e_a = np.zeros((num_closest_neighbors, num_closest_neighbors))\n",
    "for i in range(num_closest_neighbors):\n",
    "    for j in range(num_closest_neighbors):\n",
    "        e_a[i, j] = get_activation_energy(e_site[i], e_site[j], e0=e0)\n",
    "\n",
    "# diffusion rate, rate_(start to end)\n",
    "diffusion_rate = np.zeros((num_closest_neighbors, num_closest_neighbors))\n",
    "for i in range(num_closest_neighbors):\n",
    "    for j in range(num_closest_neighbors):\n",
    "        diffusion_rate[i, j] = get_diffusion_rate(e_a[i, j], temperature)\n",
    "   "
   ]
  },
  {
   "cell_type": "code",
   "execution_count": 221,
   "metadata": {},
   "outputs": [],
   "source": [
    "# value check\n",
    "# print(e_site)\n",
    "# print('-----------------')\n",
    "# # print(e_a)\n",
    "# print('-----------------')\n",
    "# print(diffusion_rate)"
   ]
  },
  {
   "cell_type": "markdown",
   "metadata": {},
   "source": [
    "## Simulation\n",
    "---"
   ]
  },
  {
   "cell_type": "code",
   "execution_count": 238,
   "metadata": {},
   "outputs": [
    {
     "name": "stderr",
     "output_type": "stream",
     "text": [
      "/tmp/ipykernel_30705/3194264741.py:30: DeprecationWarning: `product` is deprecated as of NumPy 1.25.0, and will be removed in NumPy 2.0. Please use `prod` instead.\n",
      "  fcc_lattice *= repetitions\n"
     ]
    },
    {
     "name": "stdout",
     "output_type": "stream",
     "text": [
      "---------------- step 10 ---------------------\n",
      "Time elapsed in simul: 3.391397069860454e-12 s\n",
      "---------------- step 20 ---------------------\n",
      "Time elapsed in simul: 7.154356049631523e-12 s\n",
      "---------------- step 30 ---------------------\n",
      "Time elapsed in simul: 1.0300637548814958e-11 s\n",
      "---------------- step 40 ---------------------\n",
      "Time elapsed in simul: 1.2712671076104162e-11 s\n",
      "---------------- step 50 ---------------------\n",
      "Time elapsed in simul: 1.5234625373385467e-11 s\n",
      "---------------- step 60 ---------------------\n",
      "Time elapsed in simul: 1.725290977059267e-11 s\n",
      "---------------- step 70 ---------------------\n",
      "Time elapsed in simul: 1.9647574187238862e-11 s\n",
      "---------------- step 80 ---------------------\n",
      "Time elapsed in simul: 2.2211556125913465e-11 s\n",
      "---------------- step 90 ---------------------\n",
      "Time elapsed in simul: 2.4390187408132605e-11 s\n",
      "---------------- step 100 ---------------------\n",
      "Time elapsed in simul: 2.7979439776462333e-11 s\n",
      "---------------- step 110 ---------------------\n",
      "Time elapsed in simul: 3.102641212871432e-11 s\n",
      "---------------- step 120 ---------------------\n",
      "Time elapsed in simul: 3.3851380793140915e-11 s\n"
     ]
    },
    {
     "ename": "KeyboardInterrupt",
     "evalue": "",
     "output_type": "error",
     "traceback": [
      "\u001b[0;31m---------------------------------------------------------------------------\u001b[0m",
      "\u001b[0;31mKeyboardInterrupt\u001b[0m                         Traceback (most recent call last)",
      "\u001b[1;32m/home/hexagonrose/kmc/kmc_fcc.ipynb Cell 13\u001b[0m line \u001b[0;36m1\n\u001b[1;32m     <a href='vscode-notebook-cell://wsl%2Bubuntu-22.04/home/hexagonrose/kmc/kmc_fcc.ipynb#X44sdnNjb2RlLXJlbW90ZQ%3D%3D?line=12'>13</a>\u001b[0m \u001b[39m# start simulation\u001b[39;00m\n\u001b[1;32m     <a href='vscode-notebook-cell://wsl%2Bubuntu-22.04/home/hexagonrose/kmc/kmc_fcc.ipynb#X44sdnNjb2RlLXJlbW90ZQ%3D%3D?line=13'>14</a>\u001b[0m \u001b[39mfor\u001b[39;00m i \u001b[39min\u001b[39;00m \u001b[39mrange\u001b[39m(\u001b[39m1\u001b[39m, steps\u001b[39m+\u001b[39m\u001b[39m1\u001b[39m):\n\u001b[0;32m---> <a href='vscode-notebook-cell://wsl%2Bubuntu-22.04/home/hexagonrose/kmc/kmc_fcc.ipynb#X44sdnNjb2RlLXJlbW90ZQ%3D%3D?line=14'>15</a>\u001b[0m     diffuse_one_step(lattice)\n\u001b[1;32m     <a href='vscode-notebook-cell://wsl%2Bubuntu-22.04/home/hexagonrose/kmc/kmc_fcc.ipynb#X44sdnNjb2RlLXJlbW90ZQ%3D%3D?line=15'>16</a>\u001b[0m     write(save_file_name, lattice, append\u001b[39m=\u001b[39m\u001b[39mTrue\u001b[39;00m)\n\u001b[1;32m     <a href='vscode-notebook-cell://wsl%2Bubuntu-22.04/home/hexagonrose/kmc/kmc_fcc.ipynb#X44sdnNjb2RlLXJlbW90ZQ%3D%3D?line=16'>17</a>\u001b[0m     \u001b[39mif\u001b[39;00m i \u001b[39m%\u001b[39m \u001b[39m10\u001b[39m \u001b[39m==\u001b[39m \u001b[39m0\u001b[39m:\n",
      "\u001b[1;32m/home/hexagonrose/kmc/kmc_fcc.ipynb Cell 13\u001b[0m line \u001b[0;36m3\n\u001b[1;32m     <a href='vscode-notebook-cell://wsl%2Bubuntu-22.04/home/hexagonrose/kmc/kmc_fcc.ipynb#X44sdnNjb2RlLXJlbW90ZQ%3D%3D?line=28'>29</a>\u001b[0m \u001b[39mglobal\u001b[39;00m time_elapsed\n\u001b[1;32m     <a href='vscode-notebook-cell://wsl%2Bubuntu-22.04/home/hexagonrose/kmc/kmc_fcc.ipynb#X44sdnNjb2RlLXJlbW90ZQ%3D%3D?line=30'>31</a>\u001b[0m \u001b[39m# 1. find a candidate\u001b[39;00m\n\u001b[0;32m---> <a href='vscode-notebook-cell://wsl%2Bubuntu-22.04/home/hexagonrose/kmc/kmc_fcc.ipynb#X44sdnNjb2RlLXJlbW90ZQ%3D%3D?line=31'>32</a>\u001b[0m candidate_table, diffusion_table \u001b[39m=\u001b[39m find_candidate(lattice)\n\u001b[1;32m     <a href='vscode-notebook-cell://wsl%2Bubuntu-22.04/home/hexagonrose/kmc/kmc_fcc.ipynb#X44sdnNjb2RlLXJlbW90ZQ%3D%3D?line=32'>33</a>\u001b[0m diffusion_table \u001b[39m=\u001b[39m np\u001b[39m.\u001b[39marray(diffusion_table)\n\u001b[1;32m     <a href='vscode-notebook-cell://wsl%2Bubuntu-22.04/home/hexagonrose/kmc/kmc_fcc.ipynb#X44sdnNjb2RlLXJlbW90ZQ%3D%3D?line=33'>34</a>\u001b[0m total_diffusion_rate \u001b[39m=\u001b[39m diffusion_table\u001b[39m.\u001b[39msum()\n",
      "\u001b[1;32m/home/hexagonrose/kmc/kmc_fcc.ipynb Cell 13\u001b[0m line \u001b[0;36m2\n\u001b[1;32m     <a href='vscode-notebook-cell://wsl%2Bubuntu-22.04/home/hexagonrose/kmc/kmc_fcc.ipynb#X44sdnNjb2RlLXJlbW90ZQ%3D%3D?line=19'>20</a>\u001b[0m         candidate_table\u001b[39m.\u001b[39mappend([idx, vac_idx])\n\u001b[1;32m     <a href='vscode-notebook-cell://wsl%2Bubuntu-22.04/home/hexagonrose/kmc/kmc_fcc.ipynb#X44sdnNjb2RlLXJlbW90ZQ%3D%3D?line=21'>22</a>\u001b[0m         \u001b[39m# diffusion rate\u001b[39;00m\n\u001b[0;32m---> <a href='vscode-notebook-cell://wsl%2Bubuntu-22.04/home/hexagonrose/kmc/kmc_fcc.ipynb#X44sdnNjb2RlLXJlbW90ZQ%3D%3D?line=22'>23</a>\u001b[0m         start_point_bond_num \u001b[39m=\u001b[39m \u001b[39mlen\u001b[39m(get_closest_neighbors(lattice, idx))\n\u001b[1;32m     <a href='vscode-notebook-cell://wsl%2Bubuntu-22.04/home/hexagonrose/kmc/kmc_fcc.ipynb#X44sdnNjb2RlLXJlbW90ZQ%3D%3D?line=23'>24</a>\u001b[0m         diffusion_table\u001b[39m.\u001b[39mappend(diffusion_rate[start_point_bond_num][end_point_bond_num])\n\u001b[1;32m     <a href='vscode-notebook-cell://wsl%2Bubuntu-22.04/home/hexagonrose/kmc/kmc_fcc.ipynb#X44sdnNjb2RlLXJlbW90ZQ%3D%3D?line=25'>26</a>\u001b[0m \u001b[39mreturn\u001b[39;00m candidate_table, diffusion_table\n",
      "\u001b[1;32m/home/hexagonrose/kmc/kmc_fcc.ipynb Cell 13\u001b[0m line \u001b[0;36m1\n\u001b[1;32m     <a href='vscode-notebook-cell://wsl%2Bubuntu-22.04/home/hexagonrose/kmc/kmc_fcc.ipynb#X44sdnNjb2RlLXJlbW90ZQ%3D%3D?line=15'>16</a>\u001b[0m cutoff \u001b[39m=\u001b[39m neighborlist\u001b[39m.\u001b[39mnatural_cutoffs(lattice)\n\u001b[1;32m     <a href='vscode-notebook-cell://wsl%2Bubuntu-22.04/home/hexagonrose/kmc/kmc_fcc.ipynb#X44sdnNjb2RlLXJlbW90ZQ%3D%3D?line=16'>17</a>\u001b[0m nl \u001b[39m=\u001b[39m neighborlist\u001b[39m.\u001b[39mNeighborList(cutoff, self_interaction\u001b[39m=\u001b[39m\u001b[39mFalse\u001b[39;00m, bothways\u001b[39m=\u001b[39m\u001b[39mTrue\u001b[39;00m)\n\u001b[0;32m---> <a href='vscode-notebook-cell://wsl%2Bubuntu-22.04/home/hexagonrose/kmc/kmc_fcc.ipynb#X44sdnNjb2RlLXJlbW90ZQ%3D%3D?line=17'>18</a>\u001b[0m nl\u001b[39m.\u001b[39;49mupdate(lattice)\n\u001b[1;32m     <a href='vscode-notebook-cell://wsl%2Bubuntu-22.04/home/hexagonrose/kmc/kmc_fcc.ipynb#X44sdnNjb2RlLXJlbW90ZQ%3D%3D?line=19'>20</a>\u001b[0m \u001b[39m# Get the indices of the atoms that are neighbors to the vacancy\u001b[39;00m\n\u001b[1;32m     <a href='vscode-notebook-cell://wsl%2Bubuntu-22.04/home/hexagonrose/kmc/kmc_fcc.ipynb#X44sdnNjb2RlLXJlbW90ZQ%3D%3D?line=20'>21</a>\u001b[0m indices, offsets \u001b[39m=\u001b[39m nl\u001b[39m.\u001b[39mget_neighbors(vacancy_index)\n",
      "File \u001b[0;32m~/.local/lib/python3.11/site-packages/ase/neighborlist.py:1048\u001b[0m, in \u001b[0;36mNeighborList.update\u001b[0;34m(self, atoms)\u001b[0m\n\u001b[1;32m   1043\u001b[0m \u001b[39mdef\u001b[39;00m \u001b[39mupdate\u001b[39m(\u001b[39mself\u001b[39m, atoms):\n\u001b[1;32m   1044\u001b[0m \u001b[39m    \u001b[39m\u001b[39m\"\"\"\u001b[39;00m\n\u001b[1;32m   1045\u001b[0m \u001b[39m    See :meth:`ase.neighborlist.PrimitiveNeighborList.update` or\u001b[39;00m\n\u001b[1;32m   1046\u001b[0m \u001b[39m    :meth:`ase.neighborlist.PrimitiveNeighborList.update`.\u001b[39;00m\n\u001b[1;32m   1047\u001b[0m \u001b[39m    \"\"\"\u001b[39;00m\n\u001b[0;32m-> 1048\u001b[0m     \u001b[39mreturn\u001b[39;00m \u001b[39mself\u001b[39;49m\u001b[39m.\u001b[39;49mnl\u001b[39m.\u001b[39;49mupdate(atoms\u001b[39m.\u001b[39;49mpbc, atoms\u001b[39m.\u001b[39;49mget_cell(complete\u001b[39m=\u001b[39;49m\u001b[39mTrue\u001b[39;49;00m),\n\u001b[1;32m   1049\u001b[0m                           atoms\u001b[39m.\u001b[39;49mpositions)\n",
      "File \u001b[0;32m~/.local/lib/python3.11/site-packages/ase/neighborlist.py:868\u001b[0m, in \u001b[0;36mPrimitiveNeighborList.update\u001b[0;34m(self, pbc, cell, coordinates)\u001b[0m\n\u001b[1;32m    865\u001b[0m \u001b[39m\u001b[39m\u001b[39m\"\"\"Make sure the list is up to date.\"\"\"\u001b[39;00m\n\u001b[1;32m    867\u001b[0m \u001b[39mif\u001b[39;00m \u001b[39mself\u001b[39m\u001b[39m.\u001b[39mnupdates \u001b[39m==\u001b[39m \u001b[39m0\u001b[39m:\n\u001b[0;32m--> 868\u001b[0m     \u001b[39mself\u001b[39;49m\u001b[39m.\u001b[39;49mbuild(pbc, cell, coordinates)\n\u001b[1;32m    869\u001b[0m     \u001b[39mreturn\u001b[39;00m \u001b[39mTrue\u001b[39;00m\n\u001b[1;32m    871\u001b[0m \u001b[39mif\u001b[39;00m ((\u001b[39mself\u001b[39m\u001b[39m.\u001b[39mpbc \u001b[39m!=\u001b[39m pbc)\u001b[39m.\u001b[39many() \u001b[39mor\u001b[39;00m (\u001b[39mself\u001b[39m\u001b[39m.\u001b[39mcell \u001b[39m!=\u001b[39m cell)\u001b[39m.\u001b[39many() \u001b[39mor\u001b[39;00m\n\u001b[1;32m    872\u001b[0m     ((\u001b[39mself\u001b[39m\u001b[39m.\u001b[39mcoordinates \u001b[39m-\u001b[39m coordinates)\u001b[39m*\u001b[39m\u001b[39m*\u001b[39m\u001b[39m2\u001b[39m)\u001b[39m.\u001b[39msum(\u001b[39m1\u001b[39m)\u001b[39m.\u001b[39mmax() \u001b[39m>\u001b[39m \u001b[39mself\u001b[39m\u001b[39m.\u001b[39mskin\u001b[39m*\u001b[39m\u001b[39m*\u001b[39m\u001b[39m2\u001b[39m):\n",
      "File \u001b[0;32m~/.local/lib/python3.11/site-packages/ase/neighborlist.py:957\u001b[0m, in \u001b[0;36mPrimitiveNeighborList.build\u001b[0;34m(self, pbc, cell, coordinates)\u001b[0m\n\u001b[1;32m    954\u001b[0m         \u001b[39mself\u001b[39m\u001b[39m.\u001b[39mneighbors[a] \u001b[39m=\u001b[39m np\u001b[39m.\u001b[39mconcatenate((\u001b[39mself\u001b[39m\u001b[39m.\u001b[39mneighbors[a], i))\n\u001b[1;32m    956\u001b[0m         disp \u001b[39m=\u001b[39m (n1, n2, n3) \u001b[39m@\u001b[39m op \u001b[39m+\u001b[39m offsets[i] \u001b[39m-\u001b[39m offsets[a]\n\u001b[0;32m--> 957\u001b[0m         \u001b[39mself\u001b[39m\u001b[39m.\u001b[39mnpbcneighbors \u001b[39m+\u001b[39m\u001b[39m=\u001b[39m disp\u001b[39m.\u001b[39;49many(\u001b[39m1\u001b[39;49m)\u001b[39m.\u001b[39msum()\n\u001b[1;32m    958\u001b[0m         \u001b[39mself\u001b[39m\u001b[39m.\u001b[39mdisplacements[a] \u001b[39m=\u001b[39m np\u001b[39m.\u001b[39mconcatenate((\u001b[39mself\u001b[39m\u001b[39m.\u001b[39mdisplacements[a],\n\u001b[1;32m    959\u001b[0m                                                 disp))\n\u001b[1;32m    961\u001b[0m \u001b[39mif\u001b[39;00m \u001b[39mself\u001b[39m\u001b[39m.\u001b[39mbothways:\n",
      "File \u001b[0;32m~/.local/lib/python3.11/site-packages/numpy/core/_methods.py:55\u001b[0m, in \u001b[0;36m_any\u001b[0;34m(a, axis, dtype, out, keepdims, where)\u001b[0m\n\u001b[1;32m     51\u001b[0m \u001b[39mdef\u001b[39;00m \u001b[39m_prod\u001b[39m(a, axis\u001b[39m=\u001b[39m\u001b[39mNone\u001b[39;00m, dtype\u001b[39m=\u001b[39m\u001b[39mNone\u001b[39;00m, out\u001b[39m=\u001b[39m\u001b[39mNone\u001b[39;00m, keepdims\u001b[39m=\u001b[39m\u001b[39mFalse\u001b[39;00m,\n\u001b[1;32m     52\u001b[0m           initial\u001b[39m=\u001b[39m_NoValue, where\u001b[39m=\u001b[39m\u001b[39mTrue\u001b[39;00m):\n\u001b[1;32m     53\u001b[0m     \u001b[39mreturn\u001b[39;00m umr_prod(a, axis, dtype, out, keepdims, initial, where)\n\u001b[0;32m---> 55\u001b[0m \u001b[39mdef\u001b[39;00m \u001b[39m_any\u001b[39m(a, axis\u001b[39m=\u001b[39m\u001b[39mNone\u001b[39;00m, dtype\u001b[39m=\u001b[39m\u001b[39mNone\u001b[39;00m, out\u001b[39m=\u001b[39m\u001b[39mNone\u001b[39;00m, keepdims\u001b[39m=\u001b[39m\u001b[39mFalse\u001b[39;00m, \u001b[39m*\u001b[39m, where\u001b[39m=\u001b[39m\u001b[39mTrue\u001b[39;00m):\n\u001b[1;32m     56\u001b[0m     \u001b[39m# Parsing keyword arguments is currently fairly slow, so avoid it for now\u001b[39;00m\n\u001b[1;32m     57\u001b[0m     \u001b[39mif\u001b[39;00m where \u001b[39mis\u001b[39;00m \u001b[39mTrue\u001b[39;00m:\n\u001b[1;32m     58\u001b[0m         \u001b[39mreturn\u001b[39;00m umr_any(a, axis, dtype, out, keepdims)\n",
      "\u001b[0;31mKeyboardInterrupt\u001b[0m: "
     ]
    }
   ],
   "source": [
    "# parameter tuning\n",
    "time_elapsed = 0\n",
    "save_file_name = 'ovito/result2.xyz'\n",
    "steps = 1000\n",
    "\n",
    "# create lattice\n",
    "lattice = create_fcc_lattice('Cu', 3.6, [10, 10, 3])\n",
    "\n",
    "# make vacancy\n",
    "lattice[1000].symbol = 'X'\n",
    "write(save_file_name, lattice)\n",
    "\n",
    "# start simulation\n",
    "for i in range(1, steps+1):\n",
    "    diffuse_one_step(lattice)\n",
    "    write(save_file_name, lattice, append=True)\n",
    "    if i % 10 == 0:\n",
    "        print(f'---------------- step {i} ---------------------')\n",
    "        print(f'Time elapsed in simul: {time_elapsed} s')"
   ]
  },
  {
   "cell_type": "code",
   "execution_count": 230,
   "metadata": {},
   "outputs": [
    {
     "name": "stderr",
     "output_type": "stream",
     "text": [
      "/tmp/ipykernel_30705/3194264741.py:30: DeprecationWarning: `product` is deprecated as of NumPy 1.25.0, and will be removed in NumPy 2.0. Please use `prod` instead.\n",
      "  fcc_lattice *= repetitions\n"
     ]
    }
   ],
   "source": [
    "lattice = create_fcc_lattice('Cu', 3.6, [10, 10, 3])"
   ]
  },
  {
   "cell_type": "code",
   "execution_count": 235,
   "metadata": {},
   "outputs": [
    {
     "data": {
      "text/plain": [
       "Cell([36.0, 36.0, 10.8])"
      ]
     },
     "execution_count": 235,
     "metadata": {},
     "output_type": "execute_result"
    }
   ],
   "source": [
    "lattice[1000]\n",
    "lattice.cell"
   ]
  },
  {
   "cell_type": "code",
   "execution_count": null,
   "metadata": {},
   "outputs": [],
   "source": []
  }
 ],
 "metadata": {
  "kernelspec": {
   "display_name": "jeon",
   "language": "python",
   "name": "python3"
  },
  "language_info": {
   "codemirror_mode": {
    "name": "ipython",
    "version": 3
   },
   "file_extension": ".py",
   "mimetype": "text/x-python",
   "name": "python",
   "nbconvert_exporter": "python",
   "pygments_lexer": "ipython3",
   "version": "3.11.4"
  }
 },
 "nbformat": 4,
 "nbformat_minor": 2
}
