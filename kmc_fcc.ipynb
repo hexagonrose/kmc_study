{
 "cells": [
  {
   "cell_type": "code",
   "execution_count": 1,
   "metadata": {},
   "outputs": [],
   "source": [
    "import os\n",
    "import time\n",
    "import numpy as np\n",
    "from ase import Atoms\n",
    "from ase import neighborlist\n",
    "from ase.io import write"
   ]
  },
  {
   "cell_type": "code",
   "execution_count": 2,
   "metadata": {},
   "outputs": [],
   "source": [
    "'''\n",
    "site energy -> activation energy -> diffusion rate\n",
    "\n",
    "site energy(E_i) = -N*(E_b)/2\n",
    "\n",
    "activation energy(E_a) = E_0 + alpha * E_r\n",
    "E_r = E_i(end) - E_i(start)\n",
    "\n",
    "diffusion rate = f*exp(-E_a/(k*T)) (Arrhenius)\n",
    "f is ~ 10^13 for most metals\n",
    "'''\n",
    "\n",
    "def get_site_energy(bond_energy, bond_num):\n",
    "    return -bond_num * bond_energy/2\n",
    "\n",
    "def get_activation_energy(e_start, e_end, alpha = 0.1, e0 = 0):\n",
    "    e_reaction = e_end-e_start\n",
    "    if e_reaction>=0:\n",
    "        return e0 + (1+alpha)*e_reaction\n",
    "    else:\n",
    "        return e0 + alpha*e_reaction\n",
    "\n",
    "def get_diffusion_rate(e_a, T=300, f=1E13):\n",
    "    k_B = 8.617333262145e-5  # Boltzmann constant in eV/K\n",
    "    return f*np.exp(-e_a/(k_B*T))"
   ]
  },
  {
   "cell_type": "code",
   "execution_count": 3,
   "metadata": {},
   "outputs": [],
   "source": [
    "# function to create fcc lattice\n",
    "def create_fcc_lattice(symbol, lattice_constant, repetitions):\n",
    "    \"\"\"\n",
    "    Create an FCC lattice of atoms.\n",
    "\n",
    "    Args:\n",
    "    - symbol: The chemical symbol of the atoms.\n",
    "    - lattice_constant: The lattice constant of the FCC lattice.\n",
    "    - repetitions: The number of repetitions of the unit cell in each direction.\n",
    "\n",
    "    Returns:\n",
    "    - An Atoms object representing the FCC lattice.\n",
    "    \"\"\"\n",
    "\n",
    "    # Define the positions of the atoms in the unit cell\n",
    "    positions = [[0, 0, 0],\n",
    "                 [0.5, 0.5, 0],\n",
    "                 [0.5, 0, 0.5],\n",
    "                 [0, 0.5, 0.5]]\n",
    "\n",
    "    # Scale the positions by the lattice constant\n",
    "    positions = [[x * lattice_constant for x in pos] for pos in positions]\n",
    "\n",
    "    # Create the FCC lattice\n",
    "    fcc_lattice = Atoms([symbol] * 4, positions=positions, cell=[lattice_constant] * 3, pbc=True)\n",
    "\n",
    "    # Repeat the unit cell in all directions\n",
    "    fcc_lattice *= repetitions\n",
    "\n",
    "    return fcc_lattice\n"
   ]
  },
  {
   "cell_type": "code",
   "execution_count": 4,
   "metadata": {},
   "outputs": [
    {
     "name": "stderr",
     "output_type": "stream",
     "text": [
      "/tmp/ipykernel_30705/1028488303.py:28: DeprecationWarning: `product` is deprecated as of NumPy 1.25.0, and will be removed in NumPy 2.0. Please use `prod` instead.\n",
      "  fcc_lattice *= repetitions\n"
     ]
    }
   ],
   "source": [
    "# test\n",
    "test_lattice = create_fcc_lattice('Cu', 3.6, [10, 10, 3])\n",
    "write('test_lattice.xyz', test_lattice)\n"
   ]
  },
  {
   "cell_type": "code",
   "execution_count": null,
   "metadata": {},
   "outputs": [],
   "source": []
  }
 ],
 "metadata": {
  "kernelspec": {
   "display_name": "jeon",
   "language": "python",
   "name": "python3"
  },
  "language_info": {
   "codemirror_mode": {
    "name": "ipython",
    "version": 3
   },
   "file_extension": ".py",
   "mimetype": "text/x-python",
   "name": "python",
   "nbconvert_exporter": "python",
   "pygments_lexer": "ipython3",
   "version": "3.11.4"
  }
 },
 "nbformat": 4,
 "nbformat_minor": 2
}
