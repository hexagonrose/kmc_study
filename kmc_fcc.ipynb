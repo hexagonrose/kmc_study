{
 "cells": [
  {
   "cell_type": "markdown",
   "metadata": {},
   "source": [
    "## Library\n",
    "---"
   ]
  },
  {
   "cell_type": "code",
   "execution_count": 111,
   "metadata": {},
   "outputs": [],
   "source": [
    "import os\n",
    "import time\n",
    "import numpy as np\n",
    "from ase import Atoms, neighborlist, Atom\n",
    "from ase.io import write"
   ]
  },
  {
   "cell_type": "markdown",
   "metadata": {},
   "source": [
    "## Algorithm\n",
    "---"
   ]
  },
  {
   "cell_type": "code",
   "execution_count": 2,
   "metadata": {},
   "outputs": [],
   "source": [
    "'''\n",
    "site energy -> activation energy -> diffusion rate\n",
    "\n",
    "site energy(E_i) = -N*(E_b)/2\n",
    "\n",
    "activation energy(E_a) = E_0 + alpha * E_r\n",
    "E_r = E_i(end) - E_i(start)\n",
    "\n",
    "diffusion rate = f*exp(-E_a/(k*T)) (Arrhenius)\n",
    "f is ~ 10^13 for most metals\n",
    "'''\n",
    "\n",
    "def get_site_energy(bond_energy, bond_num):\n",
    "    return -bond_num * bond_energy/2\n",
    "\n",
    "def get_activation_energy(e_start, e_end, alpha = 0.1, e0 = 0):\n",
    "    e_reaction = e_end-e_start\n",
    "    if e_reaction>=0:\n",
    "        return e0 + (1+alpha)*e_reaction\n",
    "    else:\n",
    "        return e0 + alpha*e_reaction\n",
    "\n",
    "def get_diffusion_rate(e_a, T=300, f=1E13):\n",
    "    k_B = 8.617333262145e-5  # Boltzmann constant in eV/K\n",
    "    return f*np.exp(-e_a/(k_B*T))"
   ]
  },
  {
   "cell_type": "code",
   "execution_count": 13,
   "metadata": {},
   "outputs": [],
   "source": [
    "# function to create fcc lattice\n",
    "def create_fcc_lattice(symbol, lattice_constant, repetitions, vacuum=10):\n",
    "    \"\"\"\n",
    "    Create an FCC lattice of atoms.\n",
    "\n",
    "    Args:\n",
    "    - symbol: The chemical symbol of the atoms.\n",
    "    - lattice_constant: The lattice constant of the FCC lattice.\n",
    "    - repetitions: The number of repetitions of the unit cell in each direction.\n",
    "                [x, y, z]\n",
    "    - vacuum: The thickness of the vacuum layer outside the plane perpendicular to the z-axis.\n",
    "\n",
    "    Returns:\n",
    "    - An Atoms object representing the FCC lattice.\n",
    "    \"\"\"\n",
    "\n",
    "    # Define the positions of the atoms in the unit cell\n",
    "    positions = [[0, 0, 0],\n",
    "                 [0.5, 0.5, 0],\n",
    "                 [0.5, 0, 0.5],\n",
    "                 [0, 0.5, 0.5]]\n",
    "\n",
    "    # Scale the positions by the lattice constant\n",
    "    positions = [[x * lattice_constant for x in pos] for pos in positions]\n",
    "\n",
    "    # Create the FCC lattice\n",
    "    fcc_lattice = Atoms([symbol] * 4, positions=positions, cell=[lattice_constant] * 3, pbc=[True, True, False])\n",
    "\n",
    "    # Repeat the unit cell in x and y directions\n",
    "    fcc_lattice *= repetitions\n",
    "\n",
    "    # Add vacuum layer outside the plane perpendicular to the z-axis\n",
    "    # z_max = fcc_lattice.positions[:, 2].max()\n",
    "    # vacuum_layer = Atoms('He', positions=[[0, 0, z_max + vacuum]])\n",
    "    # vacuum_layer *= [repetitions[0], repetitions[1], 1]\n",
    "    # vacuum_layer.set_cell([fcc_lattice.get_cell()[0], fcc_lattice.get_cell()[1], vacuum], scale_atoms=False)\n",
    "    # fcc_lattice += vacuum_layer\n",
    "\n",
    "    return fcc_lattice\n"
   ]
  },
  {
   "cell_type": "code",
   "execution_count": 14,
   "metadata": {},
   "outputs": [
    {
     "name": "stderr",
     "output_type": "stream",
     "text": [
      "/tmp/ipykernel_30705/2122771116.py:30: DeprecationWarning: `product` is deprecated as of NumPy 1.25.0, and will be removed in NumPy 2.0. Please use `prod` instead.\n",
      "  fcc_lattice *= repetitions\n"
     ]
    }
   ],
   "source": [
    "# test\n",
    "test_lattice = create_fcc_lattice('Cu', 3.6, [10, 10, 3], 3)\n",
    "write('test_lattice.xyz', test_lattice)\n"
   ]
  },
  {
   "cell_type": "code",
   "execution_count": 9,
   "metadata": {},
   "outputs": [],
   "source": [
    "'''\n",
    "The main goal of this function is to combine two xyz files into one file.\n",
    "example :\n",
    "1.xyz\n",
    "  1 1 1\n",
    "  2 2 2\n",
    "  3 3 3\n",
    "2.xyz\n",
    "  3 3 3\n",
    "  5 5 5\n",
    "the result will be :\n",
    "1.xyz\n",
    "  1 1 1\n",
    "  2 2 2\n",
    "  3 3 3\n",
    "  3 3 3\n",
    "  5 5 5\n",
    "'''\n",
    "def combine_xyz_files(origin, add):\n",
    "    with open(origin, 'r') as f1:\n",
    "        lines1 = f1.readlines()\n",
    "    with open(add, 'r') as f2:\n",
    "        lines2 = f2.readlines()\n",
    "    with open(origin, 'w') as f1:\n",
    "        f1.writelines(lines1)\n",
    "        f1.writelines(lines2)\n"
   ]
  },
  {
   "cell_type": "code",
   "execution_count": 87,
   "metadata": {},
   "outputs": [],
   "source": [
    "# function to find the closest neighbors of a vacancy\n",
    "\n",
    "def get_closest_neighbors(lattice, vacancy_index):\n",
    "    \"\"\"\n",
    "    Get the indices of the closest neighboring atoms to a vacancy in a lattice.\n",
    "\n",
    "    Args:\n",
    "    - lattice: The lattice containing the vacancy and neighboring atoms.\n",
    "    - vacancy_index: The index of the vacancy in the lattice.\n",
    "    - num_neighbors: The number of neighboring atoms to return.\n",
    "\n",
    "    Returns:\n",
    "    - A list of the indices of the closest neighboring atoms to the vacancy.\n",
    "    \"\"\"\n",
    "    # Create a neighbor list\n",
    "    cutoff = neighborlist.natural_cutoffs(lattice)\n",
    "    nl = neighborlist.NeighborList(cutoff, self_interaction=False, bothways=True)\n",
    "    nl.update(lattice)\n",
    "\n",
    "    # Get the indices of the atoms that are neighbors to the vacancy\n",
    "    indices, offsets = nl.get_neighbors(vacancy_index)\n",
    "\n",
    "    return indices\n",
    "\n",
    "\n"
   ]
  },
  {
   "cell_type": "code",
   "execution_count": 100,
   "metadata": {},
   "outputs": [],
   "source": [
    "# function to diffusion of a vacancy\n",
    "candidate_table = []    # list of candidate atoms. element: [start_pos, end_pos]\n",
    "diffusion_table = []    # list of diffusion rate. Indices corresponding to the candidate_table  element: diffusion rate\n",
    "\n",
    "\n",
    "def diffuse_one_step(lattice, vacancy_position):\n",
    "    global candidate_table, diffusion_table\n",
    "    # 1. find a candididate\n",
    "    if vacancy_position:\n",
    "        lattice.append(Atom('Cu', position=vacancy_position))\n",
    "        candidate_idx = get_closest_neighbors(lattice, -1)\n",
    "        del lattice[-1]\n",
    "    # 2. "
   ]
  },
  {
   "cell_type": "code",
   "execution_count": 55,
   "metadata": {},
   "outputs": [],
   "source": [
    "# diffuse one step\n",
    "test_lattice[0].position = [0, 1.8, -1.8]\n",
    "write('test_lattice.xyz', test_lattice)\n"
   ]
  },
  {
   "cell_type": "code",
   "execution_count": 107,
   "metadata": {},
   "outputs": [],
   "source": [
    "cand = diffuse_one_step(test_lattice, [0, 0, 0])"
   ]
  },
  {
   "cell_type": "code",
   "execution_count": 110,
   "metadata": {},
   "outputs": [
    {
     "name": "stdout",
     "output_type": "stream",
     "text": [
      "[ 0.   1.8 -1.8] [  12    1 1081]\n",
      "[1.8 1.8 0. ] [  2  14  12   3 120 132 123   0]\n",
      "[1.8 0.  1.8] [  3 120 123   4   5 124   1 109 111 113 231]\n",
      "[0.  1.8 1.8] [  14   12    4    5   16    1    2 1081 1082 1085 1094]\n",
      "[ 1.8 34.2  0. ] [111 110 228 231   2 120 108]\n",
      "[ 0.  34.2  1.8] [ 112  113    2    4  108  109  110 1082 1189 1190 1193]\n",
      "[34.2  1.8  0. ] [1083 1082 1092 1094   12    3    0 1080]\n",
      "[34.2  0.   1.8] [1083 1084 1085  111    3    4 1080 1081 1189 1191 1193]\n",
      "[34.2 34.2  0. ] [1190 1191 1082 1080  111  108 1188]\n"
     ]
    }
   ],
   "source": [
    "for idx in cand:\n",
    "    print(test_lattice[idx].position, get_closest_neighbors(test_lattice, idx))"
   ]
  },
  {
   "cell_type": "markdown",
   "metadata": {},
   "source": []
  },
  {
   "cell_type": "markdown",
   "metadata": {},
   "source": [
    "## Parameter setting\n",
    "---"
   ]
  },
  {
   "cell_type": "code",
   "execution_count": 112,
   "metadata": {},
   "outputs": [],
   "source": [
    "# parameter for diffusion rate\n",
    "'''\n",
    "bond energy : 200kJ/mol ~~ 2.07 eV/particle\n",
    "fcc -> 12 nearest neighbors\n",
    "'''\n",
    "bond_energy = 2.07 \n",
    "temperature = 500\n",
    "e0 = 0.1\n",
    "num_closest_neighbors = 12\n",
    "\n",
    "# site energy, e_(bond number)\n",
    "e_site = np.zeros(num_closest_neighbors)\n",
    "for i in range(num_closest_neighbors):\n",
    "    e_site[i] = get_site_energy(bond_energy, i)\n",
    "\n",
    "# activation energy, e_a_(start to end)\n",
    "e_a = np.zeros((num_closest_neighbors, num_closest_neighbors))\n",
    "for i in range(num_closest_neighbors):\n",
    "    for j in range(num_closest_neighbors):\n",
    "        e_a[i, j] = get_activation_energy(e_site[i], e_site[j], e0=e0)\n",
    "\n",
    "# diffusion rate, rate_(start to end)\n",
    "diffusion_rate = np.zeros((num_closest_neighbors, num_closest_neighbors))\n",
    "for i in range(num_closest_neighbors):\n",
    "    for j in range(num_closest_neighbors):\n",
    "        diffusion_rate[i, j] = get_diffusion_rate(e_a[i, j], temperature)\n",
    "   "
   ]
  },
  {
   "cell_type": "code",
   "execution_count": 114,
   "metadata": {},
   "outputs": [
    {
     "name": "stdout",
     "output_type": "stream",
     "text": [
      "[  0.     -1.035  -2.07   -3.105  -4.14   -5.175  -6.21   -7.245  -8.28\n",
      "  -9.315 -10.35  -11.385]\n",
      "-----------------\n",
      "-----------------\n",
      "[[9.81848233e+011 1.08462210e+013 1.19815370e+014 1.32356909e+015\n",
      "  1.46211220e+016 1.61515715e+017 1.78422191e+018 1.97098334e+019\n",
      "  2.17729381e+020 2.40519960e+021 2.65696116e+022 2.93507559e+023]\n",
      " [3.28450128e+000 9.81848233e+011 1.08462210e+013 1.19815370e+014\n",
      "  1.32356909e+015 1.46211220e+016 1.61515715e+017 1.78422191e+018\n",
      "  1.97098334e+019 2.17729381e+020 2.40519960e+021 2.65696116e+022]\n",
      " [1.09873892e-011 3.28450128e+000 9.81848233e+011 1.08462210e+013\n",
      "  1.19815370e+014 1.32356909e+015 1.46211220e+016 1.61515715e+017\n",
      "  1.78422191e+018 1.97098334e+019 2.17729381e+020 2.40519960e+021]\n",
      " [3.67552667e-023 1.09873892e-011 3.28450128e+000 9.81848233e+011\n",
      "  1.08462210e+013 1.19815370e+014 1.32356909e+015 1.46211220e+016\n",
      "  1.61515715e+017 1.78422191e+018 1.97098334e+019 2.17729381e+020]\n",
      " [1.22954563e-034 3.67552667e-023 1.09873892e-011 3.28450128e+000\n",
      "  9.81848233e+011 1.08462210e+013 1.19815370e+014 1.32356909e+015\n",
      "  1.46211220e+016 1.61515715e+017 1.78422191e+018 1.97098334e+019]\n",
      " [4.11310430e-046 1.22954563e-034 3.67552667e-023 1.09873892e-011\n",
      "  3.28450128e+000 9.81848233e+011 1.08462210e+013 1.19815370e+014\n",
      "  1.32356909e+015 1.46211220e+016 1.61515715e+017 1.78422191e+018]\n",
      " [1.37592511e-057 4.11310430e-046 1.22954563e-034 3.67552667e-023\n",
      "  1.09873892e-011 3.28450128e+000 9.81848233e+011 1.08462210e+013\n",
      "  1.19815370e+014 1.32356909e+015 1.46211220e+016 1.61515715e+017]\n",
      " [4.60277629e-069 1.37592511e-057 4.11310430e-046 1.22954563e-034\n",
      "  3.67552667e-023 1.09873892e-011 3.28450128e+000 9.81848233e+011\n",
      "  1.08462210e+013 1.19815370e+014 1.32356909e+015 1.46211220e+016]\n",
      " [1.53973130e-080 4.60277629e-069 1.37592511e-057 4.11310430e-046\n",
      "  1.22954563e-034 3.67552667e-023 1.09873892e-011 3.28450128e+000\n",
      "  9.81848233e+011 1.08462210e+013 1.19815370e+014 1.32356909e+015]\n",
      " [5.15074454e-092 1.53973130e-080 4.60277629e-069 1.37592511e-057\n",
      "  4.11310430e-046 1.22954563e-034 3.67552667e-023 1.09873892e-011\n",
      "  3.28450128e+000 9.81848233e+011 1.08462210e+013 1.19815370e+014]\n",
      " [1.72303890e-103 5.15074454e-092 1.53973130e-080 4.60277629e-069\n",
      "  1.37592511e-057 4.11310430e-046 1.22954563e-034 3.67552667e-023\n",
      "  1.09873892e-011 3.28450128e+000 9.81848233e+011 1.08462210e+013]\n",
      " [5.76394934e-115 1.72303890e-103 5.15074454e-092 1.53973130e-080\n",
      "  4.60277629e-069 1.37592511e-057 4.11310430e-046 1.22954563e-034\n",
      "  3.67552667e-023 1.09873892e-011 3.28450128e+000 9.81848233e+011]]\n"
     ]
    }
   ],
   "source": [
    "# value check\n",
    "print(e_site)\n",
    "print('-----------------')\n",
    "# print(e_a)\n",
    "print('-----------------')\n",
    "print(diffusion_rate)"
   ]
  },
  {
   "cell_type": "code",
   "execution_count": null,
   "metadata": {},
   "outputs": [],
   "source": []
  }
 ],
 "metadata": {
  "kernelspec": {
   "display_name": "jeon",
   "language": "python",
   "name": "python3"
  },
  "language_info": {
   "codemirror_mode": {
    "name": "ipython",
    "version": 3
   },
   "file_extension": ".py",
   "mimetype": "text/x-python",
   "name": "python",
   "nbconvert_exporter": "python",
   "pygments_lexer": "ipython3",
   "version": "3.11.4"
  }
 },
 "nbformat": 4,
 "nbformat_minor": 2
}
