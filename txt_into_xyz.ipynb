{
 "cells": [
  {
   "cell_type": "markdown",
   "metadata": {},
   "source": [
    "# Make xyz file\n",
    "---"
   ]
  },
  {
   "cell_type": "code",
   "execution_count": 52,
   "metadata": {},
   "outputs": [],
   "source": [
    "import numpy as np\n",
    "import time\n",
    "import os\n",
    "from IPython.display import clear_output\n",
    "\n",
    "# txt file에서 다시 numpy array로 변환\n",
    "def load_matrices_from_file(input_filename, num_matrices, height):\n",
    "    \"\"\"\n",
    "    Load NumPy matrices iteratively from a text file.\n",
    "\n",
    "    Args:\n",
    "    - input_filename: The filename of the input file.\n",
    "    - num_matrices: The number of matrices to load.\n",
    "\n",
    "    Returns:\n",
    "    - List of NumPy matrices loaded from the file.\n",
    "    \"\"\"\n",
    "\n",
    "    matrices = []\n",
    "\n",
    "    with open(input_filename, 'r') as file:\n",
    "        lines = file.readlines()\n",
    "    \n",
    "    for i in range(num_matrices):\n",
    "        # Split the lines and convert them to NumPy arrays\n",
    "        start_idx = i * (height+3)  # Adjust this based on the structure of your saved data\n",
    "        matrix_lines = lines[start_idx:start_idx+height+2]\n",
    "        matrix_data = [list(map(float, line.strip().split())) for line in matrix_lines]\n",
    "        matrix = np.array(matrix_data)\n",
    "        matrices.append(matrix)\n",
    "\n",
    "    return matrices\n",
    "\n",
    "\n",
    "def save_matrix_as_xyz(matrix, output_filename):\n",
    "    with open(output_filename, 'a') as output_file:\n",
    "        num_atoms = int(np.sum(matrix))  # Calculate the number of Cu atoms (1s)\n",
    "\n",
    "        # Write the number of atoms as the first line in the XYZ file\n",
    "        output_file.write(f\"{num_atoms}\\n\\n\")\n",
    "\n",
    "        # Iterate through the matrix to write the atom positions\n",
    "        for i in range(matrix.shape[0]):\n",
    "            for j in range(matrix.shape[1]):\n",
    "                if matrix[i, j] == 1:  # Cu atom\n",
    "                    output_file.write(f\"Cu {i} {j}\\n\")"
   ]
  },
  {
   "cell_type": "code",
   "execution_count": 53,
   "metadata": {},
   "outputs": [],
   "source": [
    "# Function to draw lattice on prompt\n",
    "def draw_lattice(lattice):\n",
    "    height, width = lattice.shape\n",
    "    for y in range(height):\n",
    "        for x in range(width):\n",
    "            if lattice[y, x] == 1:\n",
    "                print('●', end = '')\n",
    "            else:\n",
    "                print(' ', end='')\n",
    "        print('\\n')"
   ]
  },
  {
   "cell_type": "code",
   "execution_count": 54,
   "metadata": {},
   "outputs": [],
   "source": [
    "lattices = load_matrices_from_file('test100.txt', 100, 10)"
   ]
  },
  {
   "cell_type": "code",
   "execution_count": 56,
   "metadata": {},
   "outputs": [],
   "source": [
    "output_filename = 'test100.xyz'\n",
    "for lattice in lattices:\n",
    "    save_matrix_as_xyz(lattice, output_filename)"
   ]
  },
  {
   "cell_type": "code",
   "execution_count": 45,
   "metadata": {},
   "outputs": [
    {
     "name": "stdout",
     "output_type": "stream",
     "text": [
      "\u001b[H\u001b[2J"
     ]
    }
   ],
   "source": [
    "# test\n",
    "for lattice in lattices:\n",
    "    # print(f'---------------- step {i} ---------------------')\n",
    "    # diffuse_one_step(lattice, True)\n",
    "    draw_lattice(lattice)\n",
    "    # print(f'Time elapsed : {time_elapsed} s')\n",
    "    time.sleep(0.4)\n",
    "    clear_output(wait=True)\n",
    "    os.system('clear')"
   ]
  },
  {
   "cell_type": "code",
   "execution_count": null,
   "metadata": {},
   "outputs": [],
   "source": []
  }
 ],
 "metadata": {
  "kernelspec": {
   "display_name": "jeon",
   "language": "python",
   "name": "python3"
  },
  "language_info": {
   "codemirror_mode": {
    "name": "ipython",
    "version": 3
   },
   "file_extension": ".py",
   "mimetype": "text/x-python",
   "name": "python",
   "nbconvert_exporter": "python",
   "pygments_lexer": "ipython3",
   "version": "3.11.4"
  }
 },
 "nbformat": 4,
 "nbformat_minor": 2
}
