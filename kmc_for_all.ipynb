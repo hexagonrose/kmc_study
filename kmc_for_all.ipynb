{
 "cells": [
  {
   "cell_type": "markdown",
   "metadata": {},
   "source": [
    "## Library\n",
    "---"
   ]
  },
  {
   "cell_type": "code",
   "execution_count": 2,
   "metadata": {},
   "outputs": [],
   "source": [
    "import os\n",
    "import time\n",
    "import numpy as np\n"
   ]
  },
  {
   "cell_type": "markdown",
   "metadata": {},
   "source": [
    "## Algorithm\n",
    "---"
   ]
  },
  {
   "cell_type": "code",
   "execution_count": 3,
   "metadata": {},
   "outputs": [],
   "source": [
    "'''\n",
    "site energy -> activation energy -> diffusion rate\n",
    "\n",
    "site energy(E_i) = -N*(E_b)/2\n",
    "\n",
    "activation energy(E_a) = E_0 + alpha * E_r\n",
    "E_r = E_i(end) - E_i(start)\n",
    "\n",
    "diffusion rate = f*exp(-E_a/(k*T)) (Arrhenius)\n",
    "f is ~ 10^13 for most metals\n",
    "'''\n",
    "\n",
    "def get_site_energy(bond_energy, bond_num):\n",
    "    return -bond_num * bond_energy/2\n",
    "\n",
    "def get_activation_energy(e_start, e_end, alpha = 0.1, e0 = 0):\n",
    "    e_reaction = e_end-e_start\n",
    "    if e_reaction>=0:\n",
    "        return e0 + (1+alpha)*e_reaction\n",
    "    else:\n",
    "        return e0 + alpha*e_reaction\n",
    "\n",
    "def get_diffusion_rate(e_a, T=300, f=1E13):\n",
    "    k_B = 8.617333262145e-5  # Boltzmann constant in eV/K\n",
    "    return f*np.exp(-e_a/(k_B*T))"
   ]
  },
  {
   "cell_type": "code",
   "execution_count": 4,
   "metadata": {},
   "outputs": [],
   "source": [
    "# parameter for diffusion rate\n",
    "'''\n",
    "bond energy : 200kJ/mol ~~ 2.07 eV/particle\n",
    "'''\n",
    "bond_energy = 2.07 \n",
    "temperature = 700\n",
    "e0 = 0.1\n",
    "num_nearest_atoms = 12\n",
    "\n",
    "# site energy, e_(bond number)\n",
    "e_site = np.zeros(num_nearest_atoms)\n",
    "for i in range(num_nearest_atoms):\n",
    "    e_site[i] = get_site_energy(bond_energy, i)\n",
    "\n",
    "# activation energy, e_a_(start to end)\n",
    "e_a = np.zeros((num_nearest_atoms, num_nearest_atoms))\n",
    "for i in range(num_nearest_atoms):\n",
    "    for j in range(num_nearest_atoms):\n",
    "        e_a[i, j] = get_activation_energy(e_site[i], e_site[j], e0=e0)\n",
    "\n",
    "# diffusion rate, rate_(start to end)\n",
    "diffusion_rate = np.zeros((num_nearest_atoms, num_nearest_atoms))\n",
    "for i in range(num_nearest_atoms):\n",
    "    for j in range(num_nearest_atoms):\n",
    "        diffusion_rate[i, j] = get_diffusion_rate(e_a[i, j], temperature)\n",
    "   "
   ]
  },
  {
   "cell_type": "code",
   "execution_count": 5,
   "metadata": {},
   "outputs": [
    {
     "data": {
      "text/plain": [
       "array([[1.90559975e+12, 1.05973894e+13, 5.89340238e+13, 3.27742904e+14,\n",
       "        1.82263833e+15, 1.01360257e+16, 5.63682960e+16, 3.13474422e+17,\n",
       "        1.74328869e+18, 9.69474780e+18, 5.39142687e+19, 2.99827126e+20],\n",
       "       [1.21113472e+04, 1.90559975e+12, 1.05973894e+13, 5.89340238e+13,\n",
       "        3.27742904e+14, 1.82263833e+15, 1.01360257e+16, 5.63682960e+16,\n",
       "        3.13474422e+17, 1.74328869e+18, 9.69474780e+18, 5.39142687e+19],\n",
       "       [7.69756242e-05, 1.21113472e+04, 1.90559975e+12, 1.05973894e+13,\n",
       "        5.89340238e+13, 3.27742904e+14, 1.82263833e+15, 1.01360257e+16,\n",
       "        5.63682960e+16, 3.13474422e+17, 1.74328869e+18, 9.69474780e+18],\n",
       "       [4.89231019e-13, 7.69756242e-05, 1.21113472e+04, 1.90559975e+12,\n",
       "        1.05973894e+13, 5.89340238e+13, 3.27742904e+14, 1.82263833e+15,\n",
       "        1.01360257e+16, 5.63682960e+16, 3.13474422e+17, 1.74328869e+18],\n",
       "       [3.10938680e-21, 4.89231019e-13, 7.69756242e-05, 1.21113472e+04,\n",
       "        1.90559975e+12, 1.05973894e+13, 5.89340238e+13, 3.27742904e+14,\n",
       "        1.82263833e+15, 1.01360257e+16, 5.63682960e+16, 3.13474422e+17],\n",
       "       [1.97622103e-29, 3.10938680e-21, 4.89231019e-13, 7.69756242e-05,\n",
       "        1.21113472e+04, 1.90559975e+12, 1.05973894e+13, 5.89340238e+13,\n",
       "        3.27742904e+14, 1.82263833e+15, 1.01360257e+16, 5.63682960e+16],\n",
       "       [1.25601921e-37, 1.97622103e-29, 3.10938680e-21, 4.89231019e-13,\n",
       "        7.69756242e-05, 1.21113472e+04, 1.90559975e+12, 1.05973894e+13,\n",
       "        5.89340238e+13, 3.27742904e+14, 1.82263833e+15, 1.01360257e+16],\n",
       "       [7.98283307e-46, 1.25601921e-37, 1.97622103e-29, 3.10938680e-21,\n",
       "        4.89231019e-13, 7.69756242e-05, 1.21113472e+04, 1.90559975e+12,\n",
       "        1.05973894e+13, 5.89340238e+13, 3.27742904e+14, 1.82263833e+15],\n",
       "       [5.07361856e-54, 7.98283307e-46, 1.25601921e-37, 1.97622103e-29,\n",
       "        3.10938680e-21, 4.89231019e-13, 7.69756242e-05, 1.21113472e+04,\n",
       "        1.90559975e+12, 1.05973894e+13, 5.89340238e+13, 3.27742904e+14],\n",
       "       [3.22462027e-62, 5.07361856e-54, 7.98283307e-46, 1.25601921e-37,\n",
       "        1.97622103e-29, 3.10938680e-21, 4.89231019e-13, 7.69756242e-05,\n",
       "        1.21113472e+04, 1.90559975e+12, 1.05973894e+13, 5.89340238e+13],\n",
       "       [2.04945952e-70, 3.22462027e-62, 5.07361856e-54, 7.98283307e-46,\n",
       "        1.25601921e-37, 1.97622103e-29, 3.10938680e-21, 4.89231019e-13,\n",
       "        7.69756242e-05, 1.21113472e+04, 1.90559975e+12, 1.05973894e+13],\n",
       "       [1.30256712e-78, 2.04945952e-70, 3.22462027e-62, 5.07361856e-54,\n",
       "        7.98283307e-46, 1.25601921e-37, 1.97622103e-29, 3.10938680e-21,\n",
       "        4.89231019e-13, 7.69756242e-05, 1.21113472e+04, 1.90559975e+12]])"
      ]
     },
     "execution_count": 5,
     "metadata": {},
     "output_type": "execute_result"
    }
   ],
   "source": [
    "diffusion_rate"
   ]
  },
  {
   "cell_type": "code",
   "execution_count": 6,
   "metadata": {},
   "outputs": [],
   "source": [
    "# fcc and bcc using numpy!\n",
    "def create_fcc_lattice(height, width, depth):\n",
    "    # Create a 3D matrix filled with zeros\n",
    "    lattice = np.zeros((height, width, depth), dtype=int)\n",
    "\n",
    "    # Fill the matrix with ones at the positions of the atoms in the FCC lattice\n",
    "    for z in range(height):\n",
    "        for x in range(width):\n",
    "            for y in range(depth):\n",
    "                if (x % 2 == 0 and y % 2 == 0 and z % 2 == 0) or \\\n",
    "                   (x % 2 == 1 and y % 2 == 1 and z % 2 == 0) or \\\n",
    "                   (x % 2 == 1 and y % 2 == 0 and z % 2 == 1) or \\\n",
    "                   (x % 2 == 0 and y % 2 == 1 and z % 2 == 1):\n",
    "                    lattice[z, x, y] = 1\n",
    "    \n",
    "    # add vaccum layers\n",
    "    vaccum = np.zeros((1, width, depth))\n",
    "    lattice = np.concatenate((vaccum, lattice, vaccum), axis=0)\n",
    "\n",
    "    return lattice\n",
    "\n",
    "def create_bcc_lattice(height, width, depth):\n",
    "    # Create a 3D matrix filled with zeros\n",
    "    lattice = np.zeros((height, width, depth))\n",
    "\n",
    "    # Fill the matrix with ones at the positions of the atoms in the BCC lattice\n",
    "    for z in range(height):\n",
    "        for x in range(width):\n",
    "            for y in range(depth):\n",
    "                if (x % 2 == 0 and y % 2 == 0 and z % 2 == 0) or \\\n",
    "                   (x % 2 == 1 and y % 2 == 1 and z % 2 == 1):\n",
    "                    lattice[z, x, y] = 1\n",
    "\n",
    "    # add vaccum layers\n",
    "    vaccum = np.zeros((1, width, depth))\n",
    "    lattice = np.concatenate((vaccum, lattice, vaccum), axis=0)\n",
    "\n",
    "    return lattice\n",
    "\n",
    "def create_simple_cubic_lattice(height, width, depth):\n",
    "    lattice = np.ones((height+2, width, depth), dtype=int)\n",
    "    lattice[0, :, :] = 0\n",
    "    lattice[-1, :, :] = 0\n",
    "\n",
    "    return lattice\n"
   ]
  },
  {
   "cell_type": "code",
   "execution_count": 7,
   "metadata": {},
   "outputs": [],
   "source": [
    "# lattice to xyz\n",
    "def save_matrix_as_xyz(matrix, atom, output_filename):\n",
    "    with open(output_filename, 'a') as output_file:\n",
    "        num_atoms = int(np.sum(matrix))  # Calculate the number of Cu atoms (1s)\n",
    "\n",
    "        # Write the number of atoms as the first line in the XYZ file\n",
    "        output_file.write(f\"{num_atoms}\\n\\n\")\n",
    "\n",
    "        # Iterate through the matrix to write the atom positions\n",
    "        for i in range(matrix.shape[0]):\n",
    "            for j in range(matrix.shape[1]):\n",
    "                for k in range(matrix.shape[2]):\n",
    "                    if matrix[i, j, k] == 1:  # Cu atom\n",
    "                        output_file.write(f\"{atom} {i} {j} {k}\\n\")"
   ]
  },
  {
   "cell_type": "code",
   "execution_count": 8,
   "metadata": {},
   "outputs": [],
   "source": [
    "test_fcc = create_fcc_lattice(3, 10, 10)\n",
    "test_bcc = create_bcc_lattice(10, 10, 10)"
   ]
  },
  {
   "cell_type": "code",
   "execution_count": 9,
   "metadata": {},
   "outputs": [],
   "source": [
    "'''\n",
    "find nearest atoms around the site\n",
    "'''\n",
    "def get_atoms_around_site(lattice, z, x, y, lattice_type='fcc'):\n",
    "    height, width, depth = lattice.shape\n",
    "    current_pos = np.array([z, x, y])\n",
    "    if lattice_type == 'fcc':\n",
    "        nearest_atoms = np.array([[1, 1, 0], [-1, 1, 0], [1, -1, 0], [-1, -1, 0],\n",
    "                                [1, 0, 1], [-1, 0, 1], [1, 0, -1], [-1, 0, -1],\n",
    "                                [0, 1, 1], [0, -1, 1], [0, 1, -1], [0, -1, -1]])\n",
    "    elif lattice_type == 'bcc':\n",
    "        nearest_atoms = np.array([[1, 1, 1], [-1, 1, 1], [1, -1, 1], [1, 1, -1],\n",
    "                              [-1, -1, -1], [-1, -1, 1], [-1, 1, -1], [1, -1, -1]])\n",
    "    nearest_atoms_pos = nearest_atoms + current_pos\n",
    "    atoms_list = []\n",
    "    vacancy_list = []\n",
    "\n",
    "    for pos in nearest_atoms_pos:\n",
    "        if 0 <= pos[0] <= height-1:\n",
    "            if lattice[pos[0], (pos[1]+width)%width, (pos[2]+depth)%depth] == 1:\n",
    "                atoms_list.append([pos[0], (pos[1]+width)%width, (pos[2]+depth)%depth])\n",
    "            else :\n",
    "                vacancy_list.append([pos[0], (pos[1]+width)%width, (pos[2]+depth)%depth])\n",
    "    return atoms_list, vacancy_list\n"
   ]
  },
  {
   "cell_type": "code",
   "execution_count": 10,
   "metadata": {},
   "outputs": [
    {
     "data": {
      "text/plain": [
       "([[2, 2, 1],\n",
       "  [2, 0, 1],\n",
       "  [2, 1, 2],\n",
       "  [2, 1, 0],\n",
       "  [1, 2, 2],\n",
       "  [1, 0, 2],\n",
       "  [1, 2, 0],\n",
       "  [1, 0, 0]],\n",
       " [[0, 2, 1], [0, 0, 1], [0, 1, 2], [0, 1, 0]])"
      ]
     },
     "execution_count": 10,
     "metadata": {},
     "output_type": "execute_result"
    }
   ],
   "source": [
    "# test\n",
    "get_atoms_around_site(test_fcc, 1, 1, 1, 'fcc')"
   ]
  },
  {
   "cell_type": "code",
   "execution_count": 11,
   "metadata": {},
   "outputs": [],
   "source": [
    "# find candidate\n",
    "def find_candidate(lattice, lattice_type='fcc'):\n",
    "    global diffusion_rate\n",
    "    height, width, depth = lattice.shape\n",
    "    candidate_table = []\n",
    "    diffusion_table = []\n",
    "    motion_table = []\n",
    "    for z in range(height):\n",
    "        for x in range(width):\n",
    "            for y in range(depth):\n",
    "                # find atom\n",
    "                if lattice[z, x, y] == 1:\n",
    "                    atoms_list, vacancy_list = get_atoms_around_site(lattice, z, x, y, lattice_type)\n",
    "                    for vacancy_pos in vacancy_list:\n",
    "                        candidate_table.append((z, x, y))\n",
    "                        motion_table.append(vacancy_pos)\n",
    "                        num_of_neighbors_of_current = len(atoms_list)\n",
    "                        next_pos_atoms_list, _ = get_atoms_around_site(lattice, *vacancy_pos, lattice_type)\n",
    "                        # print(num_of_neighbors_of_current, len(next_pos_atoms_list)-1)\n",
    "                        diffusion_table.append(diffusion_rate[num_of_neighbors_of_current, len(next_pos_atoms_list)-1])\n",
    "                        \n",
    "    \n",
    "    return candidate_table, diffusion_table, motion_table\n"
   ]
  },
  {
   "cell_type": "code",
   "execution_count": 12,
   "metadata": {},
   "outputs": [],
   "source": [
    "cand, dif, mo = find_candidate(test_fcc, 'fcc')"
   ]
  },
  {
   "cell_type": "code",
   "execution_count": 13,
   "metadata": {},
   "outputs": [
    {
     "data": {
      "text/plain": [
       "400"
      ]
     },
     "execution_count": 13,
     "metadata": {},
     "output_type": "execute_result"
    }
   ],
   "source": [
    "len(cand)"
   ]
  },
  {
   "cell_type": "code",
   "execution_count": 14,
   "metadata": {},
   "outputs": [],
   "source": [
    "# KMC function\n",
    "def diffuse_one_step(lattice, lattice_type='fcc', print_out=False):\n",
    "    global time_elapsed\n",
    "    width, depth = lattice.shape[1], lattice.shape[2]\n",
    "\n",
    "    cand, dif, motion = find_candidate(lattice, lattice_type)\n",
    "    dif = np.array(dif)\n",
    "\n",
    "    total_dif = np.sum(dif)\n",
    "    \n",
    "    # pick 1\n",
    "    u = np.random.uniform(low=1e-6, high=1)\n",
    "    u_time = np.random.uniform(low=1e-6, high=1)\n",
    "    cum_dif = np.cumsum(dif)\n",
    "\n",
    "    chosen_idx = np.argwhere(u*total_dif < cum_dif)[0][0]\n",
    "\n",
    "    # print information\n",
    "    if print_out:\n",
    "        print(f'total_diff : {total_dif}')\n",
    "        print(f'chosen : {cand[chosen_idx]} atom')   \n",
    "    # print(f'motion : {motion[chosen_idx]}')\n",
    "    # print(cand[chosen_idx])\n",
    "    # print(motion[chosen_idx])\n",
    "\n",
    "    # change the lattice\n",
    "    z_from, x_from, y_from = cand[chosen_idx][0], cand[chosen_idx][1], cand[chosen_idx][2]\n",
    "    z_to, x_to, y_to = motion[chosen_idx][0], motion[chosen_idx][1], motion[chosen_idx][2]\n",
    "\n",
    "    lattice[z_from, x_from, y_from] = 0\n",
    "    lattice[z_to, x_to, y_to] = 1\n",
    "    \n",
    "    # time update\n",
    "    delta_t = -np.log(u_time)/total_dif\n",
    "    # print(f'delta_t : {delta_t}')\n",
    "    time_elapsed += delta_t"
   ]
  },
  {
   "cell_type": "markdown",
   "metadata": {},
   "source": [
    "## Parameter setting\n",
    "---"
   ]
  },
  {
   "cell_type": "code",
   "execution_count": 15,
   "metadata": {},
   "outputs": [],
   "source": [
    "# parameter for diffusion rate\n",
    "'''\n",
    "bond energy : 200kJ/mol ~~ 2.07 eV/particle\n",
    "fcc -> 12 nearest neighbors\n",
    "'''\n",
    "bond_energy = 2.07 \n",
    "temperature = 500\n",
    "e0 = 0.1\n",
    "num_closest_neighbors = 12\n",
    "\n",
    "# site energy, e_(bond number)\n",
    "e_site = np.zeros(num_closest_neighbors)\n",
    "for i in range(num_closest_neighbors):\n",
    "    e_site[i] = get_site_energy(bond_energy, i)\n",
    "\n",
    "# activation energy, e_a_(start to end)\n",
    "e_a = np.zeros((num_closest_neighbors, num_closest_neighbors))\n",
    "for i in range(num_closest_neighbors):\n",
    "    for j in range(num_closest_neighbors):\n",
    "        e_a[i, j] = get_activation_energy(e_site[i], e_site[j], e0=e0)\n",
    "\n",
    "# diffusion rate, rate_(start to end)\n",
    "diffusion_rate = np.zeros((num_closest_neighbors, num_closest_neighbors))\n",
    "for i in range(num_closest_neighbors):\n",
    "    for j in range(num_closest_neighbors):\n",
    "        diffusion_rate[i, j] = get_diffusion_rate(e_a[i, j], temperature)\n",
    "   "
   ]
  },
  {
   "cell_type": "code",
   "execution_count": 16,
   "metadata": {},
   "outputs": [],
   "source": [
    "# value check\n",
    "# print(e_site)\n",
    "# print('-----------------')\n",
    "# # print(e_a)\n",
    "# print('-----------------')\n",
    "# print(diffusion_rate)"
   ]
  },
  {
   "cell_type": "markdown",
   "metadata": {},
   "source": [
    "## Simulation\n",
    "---"
   ]
  },
  {
   "cell_type": "code",
   "execution_count": 19,
   "metadata": {},
   "outputs": [
    {
     "name": "stdout",
     "output_type": "stream",
     "text": [
      "100th step is done\n",
      "time elapsed : 2.5366729913440407e+42\n",
      "200th step is done\n",
      "time elapsed : 6.43560477005018e+42\n"
     ]
    },
    {
     "ename": "KeyboardInterrupt",
     "evalue": "",
     "output_type": "error",
     "traceback": [
      "\u001b[0;31m---------------------------------------------------------------------------\u001b[0m",
      "\u001b[0;31mKeyboardInterrupt\u001b[0m                         Traceback (most recent call last)",
      "\u001b[1;32m/home/hexagonrose/kmc/kmc_for_all.ipynb Cell 20\u001b[0m line \u001b[0;36m1\n\u001b[1;32m     <a href='vscode-notebook-cell://wsl%2Bubuntu-22.04/home/hexagonrose/kmc/kmc_for_all.ipynb#X51sdnNjb2RlLXJlbW90ZQ%3D%3D?line=15'>16</a>\u001b[0m \u001b[39m# simulation start\u001b[39;00m\n\u001b[1;32m     <a href='vscode-notebook-cell://wsl%2Bubuntu-22.04/home/hexagonrose/kmc/kmc_for_all.ipynb#X51sdnNjb2RlLXJlbW90ZQ%3D%3D?line=16'>17</a>\u001b[0m \u001b[39mfor\u001b[39;00m i \u001b[39min\u001b[39;00m \u001b[39mrange\u001b[39m(\u001b[39m1\u001b[39m, steps\u001b[39m+\u001b[39m\u001b[39m1\u001b[39m):\n\u001b[0;32m---> <a href='vscode-notebook-cell://wsl%2Bubuntu-22.04/home/hexagonrose/kmc/kmc_for_all.ipynb#X51sdnNjb2RlLXJlbW90ZQ%3D%3D?line=17'>18</a>\u001b[0m     diffuse_one_step(lattice, \u001b[39m'\u001b[39;49m\u001b[39mfcc\u001b[39;49m\u001b[39m'\u001b[39;49m)\n\u001b[1;32m     <a href='vscode-notebook-cell://wsl%2Bubuntu-22.04/home/hexagonrose/kmc/kmc_for_all.ipynb#X51sdnNjb2RlLXJlbW90ZQ%3D%3D?line=18'>19</a>\u001b[0m     \u001b[39mif\u001b[39;00m i\u001b[39m%\u001b[39m\u001b[39m100\u001b[39m \u001b[39m==\u001b[39m \u001b[39m0\u001b[39m:\n\u001b[1;32m     <a href='vscode-notebook-cell://wsl%2Bubuntu-22.04/home/hexagonrose/kmc/kmc_for_all.ipynb#X51sdnNjb2RlLXJlbW90ZQ%3D%3D?line=19'>20</a>\u001b[0m         \u001b[39mprint\u001b[39m(\u001b[39mf\u001b[39m\u001b[39m'\u001b[39m\u001b[39m{\u001b[39;00mi\u001b[39m}\u001b[39;00m\u001b[39mth step is done\u001b[39m\u001b[39m'\u001b[39m)\n",
      "\u001b[1;32m/home/hexagonrose/kmc/kmc_for_all.ipynb Cell 20\u001b[0m line \u001b[0;36m6\n\u001b[1;32m      <a href='vscode-notebook-cell://wsl%2Bubuntu-22.04/home/hexagonrose/kmc/kmc_for_all.ipynb#X51sdnNjb2RlLXJlbW90ZQ%3D%3D?line=2'>3</a>\u001b[0m \u001b[39mglobal\u001b[39;00m time_elapsed\n\u001b[1;32m      <a href='vscode-notebook-cell://wsl%2Bubuntu-22.04/home/hexagonrose/kmc/kmc_for_all.ipynb#X51sdnNjb2RlLXJlbW90ZQ%3D%3D?line=3'>4</a>\u001b[0m width, depth \u001b[39m=\u001b[39m lattice\u001b[39m.\u001b[39mshape[\u001b[39m1\u001b[39m], lattice\u001b[39m.\u001b[39mshape[\u001b[39m2\u001b[39m]\n\u001b[0;32m----> <a href='vscode-notebook-cell://wsl%2Bubuntu-22.04/home/hexagonrose/kmc/kmc_for_all.ipynb#X51sdnNjb2RlLXJlbW90ZQ%3D%3D?line=5'>6</a>\u001b[0m cand, dif, motion \u001b[39m=\u001b[39m find_candidate(lattice, lattice_type)\n\u001b[1;32m      <a href='vscode-notebook-cell://wsl%2Bubuntu-22.04/home/hexagonrose/kmc/kmc_for_all.ipynb#X51sdnNjb2RlLXJlbW90ZQ%3D%3D?line=6'>7</a>\u001b[0m dif \u001b[39m=\u001b[39m np\u001b[39m.\u001b[39marray(dif)\n\u001b[1;32m      <a href='vscode-notebook-cell://wsl%2Bubuntu-22.04/home/hexagonrose/kmc/kmc_for_all.ipynb#X51sdnNjb2RlLXJlbW90ZQ%3D%3D?line=8'>9</a>\u001b[0m total_dif \u001b[39m=\u001b[39m np\u001b[39m.\u001b[39msum(dif)\n",
      "\u001b[1;32m/home/hexagonrose/kmc/kmc_for_all.ipynb Cell 20\u001b[0m line \u001b[0;36m1\n\u001b[1;32m     <a href='vscode-notebook-cell://wsl%2Bubuntu-22.04/home/hexagonrose/kmc/kmc_for_all.ipynb#X51sdnNjb2RlLXJlbW90ZQ%3D%3D?line=15'>16</a>\u001b[0m motion_table\u001b[39m.\u001b[39mappend(vacancy_pos)\n\u001b[1;32m     <a href='vscode-notebook-cell://wsl%2Bubuntu-22.04/home/hexagonrose/kmc/kmc_for_all.ipynb#X51sdnNjb2RlLXJlbW90ZQ%3D%3D?line=16'>17</a>\u001b[0m num_of_neighbors_of_current \u001b[39m=\u001b[39m \u001b[39mlen\u001b[39m(atoms_list)\n\u001b[0;32m---> <a href='vscode-notebook-cell://wsl%2Bubuntu-22.04/home/hexagonrose/kmc/kmc_for_all.ipynb#X51sdnNjb2RlLXJlbW90ZQ%3D%3D?line=17'>18</a>\u001b[0m next_pos_atoms_list, _ \u001b[39m=\u001b[39m get_atoms_around_site(lattice, \u001b[39m*\u001b[39;49mvacancy_pos, lattice_type)\n\u001b[1;32m     <a href='vscode-notebook-cell://wsl%2Bubuntu-22.04/home/hexagonrose/kmc/kmc_for_all.ipynb#X51sdnNjb2RlLXJlbW90ZQ%3D%3D?line=18'>19</a>\u001b[0m \u001b[39m# print(num_of_neighbors_of_current, len(next_pos_atoms_list)-1)\u001b[39;00m\n\u001b[1;32m     <a href='vscode-notebook-cell://wsl%2Bubuntu-22.04/home/hexagonrose/kmc/kmc_for_all.ipynb#X51sdnNjb2RlLXJlbW90ZQ%3D%3D?line=19'>20</a>\u001b[0m diffusion_table\u001b[39m.\u001b[39mappend(diffusion_rate[num_of_neighbors_of_current, \u001b[39mlen\u001b[39m(next_pos_atoms_list)\u001b[39m-\u001b[39m\u001b[39m1\u001b[39m])\n",
      "\u001b[1;32m/home/hexagonrose/kmc/kmc_for_all.ipynb Cell 20\u001b[0m line \u001b[0;36m2\n\u001b[1;32m     <a href='vscode-notebook-cell://wsl%2Bubuntu-22.04/home/hexagonrose/kmc/kmc_for_all.ipynb#X51sdnNjb2RlLXJlbW90ZQ%3D%3D?line=18'>19</a>\u001b[0m \u001b[39mif\u001b[39;00m \u001b[39m0\u001b[39m \u001b[39m<\u001b[39m\u001b[39m=\u001b[39m pos[\u001b[39m0\u001b[39m] \u001b[39m<\u001b[39m\u001b[39m=\u001b[39m height\u001b[39m-\u001b[39m\u001b[39m1\u001b[39m:\n\u001b[1;32m     <a href='vscode-notebook-cell://wsl%2Bubuntu-22.04/home/hexagonrose/kmc/kmc_for_all.ipynb#X51sdnNjb2RlLXJlbW90ZQ%3D%3D?line=19'>20</a>\u001b[0m     \u001b[39mif\u001b[39;00m lattice[pos[\u001b[39m0\u001b[39m], (pos[\u001b[39m1\u001b[39m]\u001b[39m+\u001b[39mwidth)\u001b[39m%\u001b[39mwidth, (pos[\u001b[39m2\u001b[39m]\u001b[39m+\u001b[39mdepth)\u001b[39m%\u001b[39mdepth] \u001b[39m==\u001b[39m \u001b[39m1\u001b[39m:\n\u001b[0;32m---> <a href='vscode-notebook-cell://wsl%2Bubuntu-22.04/home/hexagonrose/kmc/kmc_for_all.ipynb#X51sdnNjb2RlLXJlbW90ZQ%3D%3D?line=20'>21</a>\u001b[0m         atoms_list\u001b[39m.\u001b[39mappend([pos[\u001b[39m0\u001b[39m], (pos[\u001b[39m1\u001b[39m]\u001b[39m+\u001b[39mwidth)\u001b[39m%\u001b[39mwidth, (pos[\u001b[39m2\u001b[39m]\u001b[39m+\u001b[39mdepth)\u001b[39m%\u001b[39mdepth])\n\u001b[1;32m     <a href='vscode-notebook-cell://wsl%2Bubuntu-22.04/home/hexagonrose/kmc/kmc_for_all.ipynb#X51sdnNjb2RlLXJlbW90ZQ%3D%3D?line=21'>22</a>\u001b[0m     \u001b[39melse\u001b[39;00m :\n\u001b[1;32m     <a href='vscode-notebook-cell://wsl%2Bubuntu-22.04/home/hexagonrose/kmc/kmc_for_all.ipynb#X51sdnNjb2RlLXJlbW90ZQ%3D%3D?line=22'>23</a>\u001b[0m         vacancy_list\u001b[39m.\u001b[39mappend([pos[\u001b[39m0\u001b[39m], (pos[\u001b[39m1\u001b[39m]\u001b[39m+\u001b[39mwidth)\u001b[39m%\u001b[39mwidth, (pos[\u001b[39m2\u001b[39m]\u001b[39m+\u001b[39mdepth)\u001b[39m%\u001b[39mdepth])\n",
      "\u001b[0;31mKeyboardInterrupt\u001b[0m: "
     ]
    }
   ],
   "source": [
    "# parameter tuning\n",
    "time_elapsed = 0\n",
    "save_file_name = 'ovito/np_fcc_simul_test2.xyz'\n",
    "steps = 1000\n",
    "width = 100\n",
    "depth = 100\n",
    "height = 10\n",
    "atom_type = 'Cu'\n",
    "\n",
    "# create lattice\n",
    "lattice = create_fcc_lattice(height, width, depth)\n",
    "save_matrix_as_xyz(lattice, atom_type, save_file_name)\n",
    "atom_num = lattice.sum()\n",
    "real_time_start = time.time()\n",
    "\n",
    "# simulation start\n",
    "for i in range(1, steps+1):\n",
    "    diffuse_one_step(lattice, 'fcc')\n",
    "    if i%100 == 0:\n",
    "        print(f'{i}th step is done')\n",
    "        print(f'time elapsed : {time_elapsed}')\n",
    "        save_matrix_as_xyz(lattice, atom_type, save_file_name)\n",
    "\n",
    "    if lattice.sum() != atom_num:\n",
    "        print('error!')\n",
    "        break"
   ]
  },
  {
   "cell_type": "markdown",
   "metadata": {},
   "source": [
    "## Test area\n",
    "---"
   ]
  },
  {
   "cell_type": "code",
   "execution_count": 116,
   "metadata": {},
   "outputs": [
    {
     "name": "stdout",
     "output_type": "stream",
     "text": [
      "total_diff : 1.6452417215505484e-43\n",
      "chosen : (1, 0, 4) atom\n"
     ]
    }
   ],
   "source": [
    "diffuse_one_step(test_fcc, 'fcc', print_out=True)"
   ]
  },
  {
   "cell_type": "code",
   "execution_count": 118,
   "metadata": {},
   "outputs": [
    {
     "data": {
      "text/plain": [
       "array([[0., 0., 0., 0., 0., 1., 0., 0., 0., 0.],\n",
       "       [0., 0., 0., 0., 0., 0., 0., 0., 0., 0.],\n",
       "       [0., 0., 0., 0., 0., 0., 0., 0., 0., 0.],\n",
       "       [0., 0., 0., 0., 0., 0., 0., 0., 0., 0.],\n",
       "       [0., 0., 0., 0., 0., 0., 0., 0., 0., 0.],\n",
       "       [0., 0., 0., 0., 0., 0., 0., 0., 0., 0.],\n",
       "       [0., 0., 0., 0., 0., 0., 0., 0., 0., 0.],\n",
       "       [0., 0., 0., 0., 0., 0., 0., 0., 0., 0.],\n",
       "       [0., 0., 0., 0., 0., 0., 0., 0., 0., 0.],\n",
       "       [0., 0., 0., 0., 0., 0., 0., 0., 0., 0.]])"
      ]
     },
     "execution_count": 118,
     "metadata": {},
     "output_type": "execute_result"
    }
   ],
   "source": [
    "test_fcc[0]"
   ]
  },
  {
   "cell_type": "code",
   "execution_count": null,
   "metadata": {},
   "outputs": [],
   "source": []
  }
 ],
 "metadata": {
  "kernelspec": {
   "display_name": "jeon",
   "language": "python",
   "name": "python3"
  },
  "language_info": {
   "codemirror_mode": {
    "name": "ipython",
    "version": 3
   },
   "file_extension": ".py",
   "mimetype": "text/x-python",
   "name": "python",
   "nbconvert_exporter": "python",
   "pygments_lexer": "ipython3",
   "version": "3.11.4"
  }
 },
 "nbformat": 4,
 "nbformat_minor": 2
}
