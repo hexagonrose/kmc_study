{
 "cells": [
  {
   "cell_type": "markdown",
   "metadata": {},
   "source": [
    "## Library\n",
    "---"
   ]
  },
  {
   "cell_type": "code",
   "execution_count": 1,
   "metadata": {},
   "outputs": [],
   "source": [
    "import os\n",
    "import time\n",
    "import numpy as np\n",
    "from ase import Atoms, neighborlist, Atom\n",
    "from ase.io import write\n",
    "from ase.lattice.cubic import FaceCenteredCubic\n",
    "from ase.lattice.hexagonal import HexagonalClosedPacked"
   ]
  },
  {
   "cell_type": "markdown",
   "metadata": {},
   "source": [
    "## Algorithm\n",
    "---"
   ]
  },
  {
   "cell_type": "code",
   "execution_count": 2,
   "metadata": {},
   "outputs": [],
   "source": [
    "'''\n",
    "site energy -> activation energy -> diffusion rate\n",
    "\n",
    "site energy(E_i) = -N*(E_b)/2\n",
    "\n",
    "activation energy(E_a) = E_0 + alpha * E_r\n",
    "E_r = E_i(end) - E_i(start)\n",
    "\n",
    "diffusion rate = f*exp(-E_a/(k*T)) (Arrhenius)\n",
    "f is ~ 10^13 for most metals\n",
    "'''\n",
    "\n",
    "def get_site_energy(bond_energy, bond_num):\n",
    "    return -bond_num * bond_energy/2\n",
    "\n",
    "def get_activation_energy(e_start, e_end, alpha = 0.1, e0 = 0):\n",
    "    e_reaction = e_end-e_start\n",
    "    if e_reaction>=0:\n",
    "        return e0 + (1+alpha)*e_reaction\n",
    "    else:\n",
    "        return e0 + alpha*e_reaction\n",
    "\n",
    "def get_diffusion_rate(e_a, T=300, f=1E13):\n",
    "    k_B = 8.617333262145e-5  # Boltzmann constant in eV/K\n",
    "    return f*np.exp(-e_a/(k_B*T))"
   ]
  },
  {
   "cell_type": "code",
   "execution_count": 28,
   "metadata": {},
   "outputs": [],
   "source": [
    "# function to create fcc lattice\n",
    "def create_fcc_lattice(symbol, lattice_constant, repetitions):\n",
    "    \"\"\"\n",
    "    Create an FCC lattice of atoms.\n",
    "\n",
    "    Args:\n",
    "    - symbol: The chemical symbol of the atoms.\n",
    "    - lattice_constant: The lattice constant of the FCC lattice.\n",
    "    - repetitions: The number of repetitions of the unit cell in each direction.\n",
    "                [x, y, z]\n",
    "    - vacuum: The thickness of the vacuum layer outside the plane perpendicular to the z-axis.\n",
    "\n",
    "    Returns:\n",
    "    - An Atoms object representing the FCC lattice.\n",
    "    \"\"\"\n",
    "\n",
    "    # Define the positions of the atoms in the unit cell\n",
    "    positions = [[0, 0, 0],\n",
    "                 [0.5, 0.5, 0],\n",
    "                 [0.5, 0, 0.5],\n",
    "                 [0, 0.5, 0.5]]\n",
    "\n",
    "    # Scale the positions by the lattice constant\n",
    "    positions = [[x * lattice_constant for x in pos] for pos in positions]\n",
    "\n",
    "    # Create the FCC lattice\n",
    "    fcc_lattice = Atoms([symbol] * 4, positions=positions, cell=[lattice_constant] * 3, pbc=[True, True, False])\n",
    "\n",
    "    # Repeat the unit cell in x and y directions\n",
    "    fcc_lattice *= repetitions\n",
    "\n",
    "    return fcc_lattice\n",
    "\n",
    "# function to create bcc lattice\n",
    "def create_bcc_lattice(symbol, lattice_constant, repetitions):\n",
    "    \"\"\"\n",
    "    Create a BCC lattice of atoms.\n",
    "\n",
    "    Args:\n",
    "    - symbol: The chemical symbol of the atoms.\n",
    "    - lattice_constant: The lattice constant of the BCC lattice.\n",
    "    - repetitions: The number of repetitions of the unit cell in each direction.\n",
    "                [x, y, z]\n",
    "\n",
    "    Returns:\n",
    "    - An Atoms object representing the BCC lattice.\n",
    "    \"\"\"\n",
    "\n",
    "    # Define the positions of the atoms in the unit cell\n",
    "    positions = [[0, 0, 0],\n",
    "                 [0.5, 0.5, 0.5]]\n",
    "\n",
    "    # Scale the positions by the lattice constant\n",
    "    positions = [[x * lattice_constant for x in pos] for pos in positions]\n",
    "\n",
    "    # Create the BCC lattice\n",
    "    bcc_lattice = Atoms([symbol] * 2, positions=positions, cell=[lattice_constant] * 3, pbc=[True, True, False])\n",
    "\n",
    "    # Repeat the unit cell in x, y, and z directions\n",
    "    bcc_lattice *= repetitions\n",
    "\n",
    "    return bcc_lattice\n",
    "\n",
    "\n",
    "# function to create hcp lattice\n",
    "def create_hcp_lattice(symbol, lattice_constant, repetitions):\n",
    "    \"\"\"\n",
    "    Create a hexagonal close-packed (HCP) lattice of atoms.\n",
    "\n",
    "    Args:\n",
    "    - symbol: The chemical symbol of the atoms.\n",
    "    - lattice_constant: The lattice constant of the HCP lattice.\n",
    "    - repetitions: The number of repetitions of the unit cell in each direction.\n",
    "                [x, y, z]\n",
    "\n",
    "    Returns:\n",
    "    - An Atoms object representing the HCP lattice.\n",
    "    \"\"\"\n",
    "\n",
    "    # Define the positions of the atoms in the unit cell\n",
    "    positions = [[0, 0, 0],\n",
    "                 [2/3, 1/3, 1/2]]\n",
    "\n",
    "    # Scale the positions by the lattice constant\n",
    "    positions = [[x * lattice_constant for x in pos] for pos in positions]\n",
    "\n",
    "    # Create the HCP lattice\n",
    "    hcp_lattice = Atoms([symbol] * 2, positions=positions, cell=[lattice_constant] * 3, pbc=[True, True, False])\n",
    "\n",
    "    # Repeat the unit cell in x, y, and z directions\n",
    "    hcp_lattice *= repetitions\n",
    "\n",
    "    return hcp_lattice\n"
   ]
  },
  {
   "cell_type": "code",
   "execution_count": 4,
   "metadata": {},
   "outputs": [],
   "source": [
    "# function to find the closest neighbors of a vacancy\n",
    "\n",
    "def get_closest_neighbors(lattice, vacancy_index):\n",
    "    \"\"\"\n",
    "    Get the indices of the closest neighboring atoms to a vacancy in a lattice.\n",
    "\n",
    "    Args:\n",
    "    - lattice: The lattice containing the vacancy and neighboring atoms.\n",
    "    - vacancy_index: The index of the vacancy in the lattice.\n",
    "    - num_neighbors: The number of neighboring atoms to return.\n",
    "\n",
    "    Returns:\n",
    "    - A list of the indices of the closest neighboring atoms to the vacancy.\n",
    "    \"\"\"\n",
    "    # Create a neighbor list\n",
    "    cutoff = neighborlist.natural_cutoffs(lattice)\n",
    "    nl = neighborlist.NeighborList(cutoff, self_interaction=False, bothways=True)\n",
    "    nl.update(lattice)\n",
    "\n",
    "    # Get the indices of the atoms that are neighbors to the vacancy\n",
    "    indices, offsets = nl.get_neighbors(vacancy_index)\n",
    "\n",
    "    return indices\n",
    "\n"
   ]
  },
  {
   "cell_type": "code",
   "execution_count": 9,
   "metadata": {},
   "outputs": [],
   "source": [
    "# function to diffusion of a vacancy\n",
    "\n",
    "def find_candidate(lattice):\n",
    "    global diffusion_rate\n",
    "\n",
    "    candidate_table = []    # list of candidate atoms. element: [start_pos, end_pos]\n",
    "    diffusion_table = []    # list of diffusion rate. Indices corresponding to the candidate_table  element: diffusion rate\n",
    "\n",
    "    # 1. find a candididate\n",
    "    vacancy_indices = lattice.symbols.search('X')\n",
    "    for vac_idx in vacancy_indices:\n",
    "        lattice[vac_idx].symbol = 'Cu'\n",
    "        candidate_idx = get_closest_neighbors(lattice, vac_idx)\n",
    "        lattice[vac_idx].symbol = 'X'\n",
    "        end_point_bond_num = len(candidate_idx)-1\n",
    "\n",
    "        # 2. modify event table\n",
    "        for idx in candidate_idx:\n",
    "            # position\n",
    "            candidate_table.append([idx, vac_idx])\n",
    "\n",
    "            # diffusion rate\n",
    "            start_point_bond_num = len(get_closest_neighbors(lattice, idx))\n",
    "            diffusion_table.append(diffusion_rate[start_point_bond_num][end_point_bond_num])\n",
    "    \n",
    "    return candidate_table, diffusion_table\n",
    "\n",
    "def diffuse_one_step(lattice):\n",
    "    global time_elapsed\n",
    "\n",
    "    # 1. find a candidate\n",
    "    candidate_table, diffusion_table = find_candidate(lattice)\n",
    "    diffusion_table = np.array(diffusion_table)\n",
    "    total_diffusion_rate = diffusion_table.sum()\n",
    "\n",
    "    # 2. pick random numbers\n",
    "    u = np.random.uniform(low=1e-6, high=1)\n",
    "    u_time = np.random.uniform(low=1e-6, high=1)\n",
    "    cum_dif = np.cumsum(diffusion_table)\n",
    "    chosen_idx = np.argwhere(u*total_diffusion_rate < cum_dif)[0][0]\n",
    "    # print(chosen_idx)\n",
    "\n",
    "    # 3. time update\n",
    "    delta_t = -np.log(u_time)/total_diffusion_rate\n",
    "    time_elapsed += delta_t\n",
    "\n",
    "    # 4. diffusion(swap the position of atom 'A' and vacancy 'X')\n",
    "    start_idx = candidate_table[chosen_idx][0]\n",
    "    end_idx = candidate_table[chosen_idx][1]\n",
    "    start_pos = lattice[start_idx].position.copy()\n",
    "    end_pos = lattice[end_idx].position\n",
    "    vacancy_z = end_pos[2]\n",
    "    \n",
    "    lattice[start_idx].position = end_pos\n",
    "    lattice[end_idx].position = start_pos\n",
    "    \n",
    "    return vacancy_z"
   ]
  },
  {
   "cell_type": "markdown",
   "metadata": {},
   "source": []
  },
  {
   "cell_type": "markdown",
   "metadata": {},
   "source": [
    "## Parameter setting\n",
    "---"
   ]
  },
  {
   "cell_type": "code",
   "execution_count": 6,
   "metadata": {},
   "outputs": [],
   "source": [
    "# parameter for diffusion rate\n",
    "'''\n",
    "bond energy : 200kJ/mol ~~ 2.07 eV/particle\n",
    "fcc -> 12 nearest neighbors\n",
    "'''\n",
    "bond_energy = 2.07 \n",
    "temperature = 500\n",
    "e0 = 0.1\n",
    "num_closest_neighbors = 12\n",
    "\n",
    "# site energy, e_(bond number)\n",
    "e_site = np.zeros(num_closest_neighbors)\n",
    "for i in range(num_closest_neighbors):\n",
    "    e_site[i] = get_site_energy(bond_energy, i)\n",
    "\n",
    "# activation energy, e_a_(start to end)\n",
    "e_a = np.zeros((num_closest_neighbors, num_closest_neighbors))\n",
    "for i in range(num_closest_neighbors):\n",
    "    for j in range(num_closest_neighbors):\n",
    "        e_a[i, j] = get_activation_energy(e_site[i], e_site[j], e0=e0)\n",
    "\n",
    "# diffusion rate, rate_(start to end)\n",
    "diffusion_rate = np.zeros((num_closest_neighbors, num_closest_neighbors))\n",
    "for i in range(num_closest_neighbors):\n",
    "    for j in range(num_closest_neighbors):\n",
    "        diffusion_rate[i, j] = get_diffusion_rate(e_a[i, j], temperature)\n",
    "   "
   ]
  },
  {
   "cell_type": "code",
   "execution_count": 7,
   "metadata": {},
   "outputs": [],
   "source": [
    "# value check\n",
    "# print(e_site)\n",
    "# print('-----------------')\n",
    "# # print(e_a)\n",
    "# print('-----------------')\n",
    "# print(diffusion_rate)"
   ]
  },
  {
   "cell_type": "markdown",
   "metadata": {},
   "source": [
    "## Simulation\n",
    "---"
   ]
  },
  {
   "cell_type": "code",
   "execution_count": 29,
   "metadata": {},
   "outputs": [
    {
     "name": "stderr",
     "output_type": "stream",
     "text": [
      "/tmp/ipykernel_843/2467453919.py:91: DeprecationWarning: `product` is deprecated as of NumPy 1.25.0, and will be removed in NumPy 2.0. Please use `prod` instead.\n",
      "  hcp_lattice *= repetitions\n"
     ]
    }
   ],
   "source": [
    "# parameter tuning\n",
    "time_elapsed = 0\n",
    "save_file_name = 'ovito/test_hcp_single.xyz'\n",
    "steps = 1000\n",
    "width = 10\n",
    "depth = 10\n",
    "height = 3\n",
    "vacancy_idx = 100\n",
    "\n",
    "# atom_type = 'Cu'\n",
    "# lattice_param = 3.6\n",
    "# atom_type = 'Fe'\n",
    "# lattice_param = 2.87\n",
    "atom_type = 'Ti'\n",
    "lattice_param = 2.94\n",
    "\n",
    "# create lattice\n",
    "# lattice = create_fcc_lattice(atom_type, lattice_param, [width, depth, height])\n",
    "# lattice = create_bcc_lattice(atom_type, lattice_param, [width, depth, height])\n",
    "lattice = create_hcp_lattice(atom_type, lattice_param, [width, depth, height])\n",
    "\n",
    "# make vacancy\n",
    "lattice[vacancy_idx].symbol = 'X'\n",
    "prev_vacncy_z = None\n",
    "vacancy_z = lattice[vacancy_idx].position[2]\n",
    "write(save_file_name, lattice)\n",
    "\n"
   ]
  },
  {
   "cell_type": "code",
   "execution_count": null,
   "metadata": {},
   "outputs": [],
   "source": [
    "# start simulation\n",
    "for i in range(1, steps+1):\n",
    "    prev_vacncy_z = vacancy_z\n",
    "    vacancy_z = diffuse_one_step(lattice)\n",
    "    # print(prev_vacncy_z, vacancy_z)\n",
    "    if prev_vacncy_z != vacancy_z:\n",
    "        write(save_file_name, lattice, append=True)\n",
    "    elif i % 10 == 0:\n",
    "        write(save_file_name, lattice, append=True)\n",
    "        print(f'---------------- step {i} ---------------------')\n",
    "        print(f'Time elapsed in simul: {time_elapsed} s')"
   ]
  },
  {
   "cell_type": "markdown",
   "metadata": {},
   "source": [
    "## Test area\n",
    "---"
   ]
  },
  {
   "cell_type": "code",
   "execution_count": 24,
   "metadata": {},
   "outputs": [],
   "source": [
    "for idx in get_closest_neighbors(lattice, 1):\n",
    "    lattice[idx].symbol = 'Y'\n",
    "\n",
    "write('bcc_test2.xyz', lattice)"
   ]
  },
  {
   "cell_type": "code",
   "execution_count": 30,
   "metadata": {},
   "outputs": [
    {
     "data": {
      "text/plain": [
       "array([  7,   6,  66,  61,  60,   8,   2,   3,  62,  68,   0,  55, 541])"
      ]
     },
     "execution_count": 30,
     "metadata": {},
     "output_type": "execute_result"
    }
   ],
   "source": [
    "get_closest_neighbors(lattice, 1)"
   ]
  },
  {
   "cell_type": "code",
   "execution_count": null,
   "metadata": {},
   "outputs": [],
   "source": []
  }
 ],
 "metadata": {
  "kernelspec": {
   "display_name": "jeon",
   "language": "python",
   "name": "python3"
  },
  "language_info": {
   "codemirror_mode": {
    "name": "ipython",
    "version": 3
   },
   "file_extension": ".py",
   "mimetype": "text/x-python",
   "name": "python",
   "nbconvert_exporter": "python",
   "pygments_lexer": "ipython3",
   "version": "3.11.4"
  }
 },
 "nbformat": 4,
 "nbformat_minor": 2
}
