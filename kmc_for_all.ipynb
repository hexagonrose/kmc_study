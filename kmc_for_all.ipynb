{
 "cells": [
  {
   "cell_type": "markdown",
   "metadata": {},
   "source": [
    "## Library\n",
    "---"
   ]
  },
  {
   "cell_type": "code",
   "execution_count": 16,
   "metadata": {},
   "outputs": [],
   "source": [
    "import os\n",
    "import time\n",
    "import numpy as np\n"
   ]
  },
  {
   "cell_type": "markdown",
   "metadata": {},
   "source": [
    "## Algorithm\n",
    "---"
   ]
  },
  {
   "cell_type": "code",
   "execution_count": 2,
   "metadata": {},
   "outputs": [],
   "source": [
    "'''\n",
    "site energy -> activation energy -> diffusion rate\n",
    "\n",
    "site energy(E_i) = -N*(E_b)/2\n",
    "\n",
    "activation energy(E_a) = E_0 + alpha * E_r\n",
    "E_r = E_i(end) - E_i(start)\n",
    "\n",
    "diffusion rate = f*exp(-E_a/(k*T)) (Arrhenius)\n",
    "f is ~ 10^13 for most metals\n",
    "'''\n",
    "\n",
    "def get_site_energy(bond_energy, bond_num):\n",
    "    return -bond_num * bond_energy/2\n",
    "\n",
    "def get_activation_energy(e_start, e_end, alpha = 0.1, e0 = 0):\n",
    "    e_reaction = e_end-e_start\n",
    "    if e_reaction>=0:\n",
    "        return e0 + (1+alpha)*e_reaction\n",
    "    else:\n",
    "        return e0 + alpha*e_reaction\n",
    "\n",
    "def get_diffusion_rate(e_a, T=300, f=1E13):\n",
    "    k_B = 8.617333262145e-5  # Boltzmann constant in eV/K\n",
    "    return f*np.exp(-e_a/(k_B*T))"
   ]
  },
  {
   "cell_type": "code",
   "execution_count": 65,
   "metadata": {},
   "outputs": [],
   "source": [
    "# fcc and bcc using numpy!\n",
    "def create_fcc_lattice(height, width, depth):\n",
    "    # Create a 3D matrix filled with zeros\n",
    "    lattice = np.zeros((height, width, depth), dtype=int)\n",
    "\n",
    "    # Fill the matrix with ones at the positions of the atoms in the FCC lattice\n",
    "    for z in range(height):\n",
    "        for x in range(width):\n",
    "            for y in range(depth):\n",
    "                if (x % 2 == 0 and y % 2 == 0 and z % 2 == 0) or \\\n",
    "                   (x % 2 == 1 and y % 2 == 1 and z % 2 == 0) or \\\n",
    "                   (x % 2 == 1 and y % 2 == 0 and z % 2 == 1) or \\\n",
    "                   (x % 2 == 0 and y % 2 == 1 and z % 2 == 1):\n",
    "                    lattice[z, x, y] = 1\n",
    "    \n",
    "    # add vaccum layers\n",
    "    vaccum = np.zeros((1, width, depth))\n",
    "    lattice = np.concatenate((vaccum, lattice, vaccum), axis=0)\n",
    "\n",
    "    return lattice\n",
    "\n",
    "def create_bcc_lattice(height, width, depth):\n",
    "    # Create a 3D matrix filled with zeros\n",
    "    lattice = np.zeros((height, width, depth))\n",
    "\n",
    "    # Fill the matrix with ones at the positions of the atoms in the BCC lattice\n",
    "    for z in range(height):\n",
    "        for x in range(width):\n",
    "            for y in range(depth):\n",
    "                if (x % 2 == 0 and y % 2 == 0 and z % 2 == 0) or \\\n",
    "                   (x % 2 == 1 and y % 2 == 1 and z % 2 == 1):\n",
    "                    lattice[z, x, y] = 1\n",
    "\n",
    "    # add vaccum layers\n",
    "    vaccum = np.zeros((1, width, depth))\n",
    "    lattice = np.concatenate((vaccum, lattice, vaccum), axis=0)\n",
    "\n",
    "    return lattice\n",
    "\n",
    "def create_simple_cubic_lattice(height, width, depth):\n",
    "    lattice = np.ones((height+2, width, depth), dtype=int)\n",
    "    lattice[0, :, :] = 0\n",
    "    lattice[-1, :, :] = 0\n",
    "\n",
    "    return lattice\n"
   ]
  },
  {
   "cell_type": "code",
   "execution_count": 16,
   "metadata": {},
   "outputs": [],
   "source": [
    "# lattice to xyz\n",
    "def save_matrix_as_xyz(matrix, atom, output_filename):\n",
    "    with open(output_filename, 'a') as output_file:\n",
    "        num_atoms = int(np.sum(matrix))  # Calculate the number of Cu atoms (1s)\n",
    "\n",
    "        # Write the number of atoms as the first line in the XYZ file\n",
    "        output_file.write(f\"{num_atoms}\\n\\n\")\n",
    "\n",
    "        # Iterate through the matrix to write the atom positions\n",
    "        for i in range(matrix.shape[0]):\n",
    "            for j in range(matrix.shape[1]):\n",
    "                for k in range(matrix.shape[2]):\n",
    "                    if matrix[i, j, k] == 1:  # Cu atom\n",
    "                        output_file.write(f\"{atom} {i} {j} {k}\\n\")"
   ]
  },
  {
   "cell_type": "code",
   "execution_count": 79,
   "metadata": {},
   "outputs": [],
   "source": [
    "test_fcc = create_fcc_lattice(3, 10, 10)\n",
    "test_bcc = create_bcc_lattice(10, 10, 10)"
   ]
  },
  {
   "cell_type": "code",
   "execution_count": 80,
   "metadata": {},
   "outputs": [],
   "source": [
    "'''\n",
    "find nearest atoms around the site\n",
    "'''\n",
    "def get_atoms_around_site_fcc(lattice, z, x, y):\n",
    "    height, width, depth = lattice.shape\n",
    "    current_pos = np.array([z, x, y])\n",
    "    nearest_atoms = np.array([[1, 1, 0], [-1, 1, 0], [1, -1, 0], [-1, -1, 0],\n",
    "                              [1, 0, 1], [-1, 0, 1], [1, 0, -1], [-1, 0, -1],\n",
    "                              [0, 1, 1], [0, -1, 1], [0, 1, -1], [0, -1, -1]])\n",
    "    nearest_atoms_pos = nearest_atoms + current_pos\n",
    "    result = []\n",
    "\n",
    "    for pos in nearest_atoms_pos:\n",
    "        if 0 <= pos[0] <= height+1 and lattice[*pos.tolist()] == 1:\n",
    "            result.append(pos)\n",
    "    return result\n",
    "    \n",
    "def get_atoms_around_site_bcc(lattice, z, x, y):\n",
    "    height, width, depth = lattice.shape\n",
    "    current_pos = np.array([z, x, y])\n",
    "    nearest_atoms = np.array([[1, 1, 1], [-1, 1, 1], [1, -1, 1], [1, 1, -1],\n",
    "                              [-1, -1, -1], [-1, -1, 1], [-1, 1, -1], [1, -1, -1]])\n",
    "    \n",
    "    nearest_atoms_pos = nearest_atoms + current_pos\n",
    "    result = []\n",
    "    for pos in nearest_atoms_pos:\n",
    "        if 0 <= pos[0] <= height+1 and lattice[*pos.tolist()] == 1:\n",
    "            result.append(pos)\n",
    "    return result"
   ]
  },
  {
   "cell_type": "code",
   "execution_count": 81,
   "metadata": {},
   "outputs": [
    {
     "data": {
      "text/plain": [
       "[array([4, 1, 1]),\n",
       " array([2, 1, 1]),\n",
       " array([ 4, -1,  1]),\n",
       " array([ 4,  1, -1]),\n",
       " array([ 2, -1, -1]),\n",
       " array([ 2, -1,  1]),\n",
       " array([ 2,  1, -1]),\n",
       " array([ 4, -1, -1])]"
      ]
     },
     "execution_count": 81,
     "metadata": {},
     "output_type": "execute_result"
    }
   ],
   "source": [
    "# find candidate\n",
    "def find_candidate_fcc(lattice):\n",
    "    global e_a\n",
    "    global diffusion_rate\n",
    "    height, width, depth = lattice.shape\n",
    "    candidate_table = []\n",
    "    diffusion_table = []\n",
    "    motion_table = []\n",
    "    for z in range(height):\n",
    "        for x in range(width):\n",
    "            for y in range(depth):\n",
    "                # find vacancy\n",
    "                if lattice[z, x, y] == 0:\n",
    "                    up, down, left, forward, right, back = get_atoms_around_site(lattice, z, x, y)\n",
    "                    neighbor = left+up+right+down+forward+back\n",
    "                    if neighbor:\n",
    "                        '''\n",
    "                        motion table\n",
    "                        1 : up     2 : down     3 : left       4 : forward      5 : right       6 : back\n",
    "                        '''\n",
    "                        if up:\n",
    "                            neighbor_of_up = get_atoms_around_site(lattice, z-1, x, y, True)\n",
    "                            candidate_table.append((z-1, x, y))\n",
    "                            motion_table.append(2)\n",
    "                            diffusion_table.append(diffusion_rate[neighbor_of_up, neighbor-1])\n",
    "                        if down:\n",
    "                            neighbor_of_down = get_atoms_around_site(lattice, z+1, x, y, True)\n",
    "                            candidate_table.append((z+1, x, y))\n",
    "                            motion_table.append(1)\n",
    "                            diffusion_table.append(diffusion_rate[neighbor_of_down, neighbor-1]) \n",
    "                        if left:\n",
    "                            neighbor_of_left = get_atoms_around_site(lattice, z, x, (y-1)%depth, True)\n",
    "                            candidate_table.append((z, x, (y-1)%depth))\n",
    "                            motion_table.append(5)\n",
    "                            diffusion_table.append(diffusion_rate[neighbor_of_left, neighbor-1])\n",
    "                        if forward:\n",
    "                            neighbor_of_forward = get_atoms_around_site(lattice, z, (x-1)%width, y, True)\n",
    "                            candidate_table.append((z, (x-1)%width, y))\n",
    "                            motion_table.append(6)\n",
    "                            diffusion_table.append(diffusion_rate[neighbor_of_forward, neighbor-1]) \n",
    "                        if right:\n",
    "                            neighbor_of_right = get_atoms_around_site(lattice, z, x, (y+1)%depth, True)\n",
    "                            candidate_table.append((z, x, (y+1)%depth))\n",
    "                            motion_table.append(3)\n",
    "                            diffusion_table.append(diffusion_rate[neighbor_of_right, neighbor-1])\n",
    "                        if back:\n",
    "                            neighbor_of_back = get_atoms_around_site(lattice, z, (x+1)%width, y, True)\n",
    "                            candidate_table.append((z, (x+1)%width, y))\n",
    "                            motion_table.append(4)\n",
    "                            diffusion_table.append(diffusion_rate[neighbor_of_back, neighbor-1]) \n",
    "    \n",
    "    return candidate_table, diffusion_table, motion_table\n"
   ]
  },
  {
   "cell_type": "code",
   "execution_count": 69,
   "metadata": {},
   "outputs": [
    {
     "data": {
      "text/plain": [
       "1.0"
      ]
     },
     "execution_count": 69,
     "metadata": {},
     "output_type": "execute_result"
    }
   ],
   "source": [
    "test[2, -1, 0]"
   ]
  },
  {
   "cell_type": "markdown",
   "metadata": {},
   "source": [
    "## Parameter setting\n",
    "---"
   ]
  },
  {
   "cell_type": "code",
   "execution_count": 6,
   "metadata": {},
   "outputs": [],
   "source": [
    "# parameter for diffusion rate\n",
    "'''\n",
    "bond energy : 200kJ/mol ~~ 2.07 eV/particle\n",
    "fcc -> 12 nearest neighbors\n",
    "'''\n",
    "bond_energy = 2.07 \n",
    "temperature = 500\n",
    "e0 = 0.1\n",
    "num_closest_neighbors = 12\n",
    "\n",
    "# site energy, e_(bond number)\n",
    "e_site = np.zeros(num_closest_neighbors)\n",
    "for i in range(num_closest_neighbors):\n",
    "    e_site[i] = get_site_energy(bond_energy, i)\n",
    "\n",
    "# activation energy, e_a_(start to end)\n",
    "e_a = np.zeros((num_closest_neighbors, num_closest_neighbors))\n",
    "for i in range(num_closest_neighbors):\n",
    "    for j in range(num_closest_neighbors):\n",
    "        e_a[i, j] = get_activation_energy(e_site[i], e_site[j], e0=e0)\n",
    "\n",
    "# diffusion rate, rate_(start to end)\n",
    "diffusion_rate = np.zeros((num_closest_neighbors, num_closest_neighbors))\n",
    "for i in range(num_closest_neighbors):\n",
    "    for j in range(num_closest_neighbors):\n",
    "        diffusion_rate[i, j] = get_diffusion_rate(e_a[i, j], temperature)\n",
    "   "
   ]
  },
  {
   "cell_type": "code",
   "execution_count": null,
   "metadata": {},
   "outputs": [],
   "source": [
    "# value check\n",
    "# print(e_site)\n",
    "# print('-----------------')\n",
    "# # print(e_a)\n",
    "# print('-----------------')\n",
    "# print(diffusion_rate)"
   ]
  },
  {
   "cell_type": "markdown",
   "metadata": {},
   "source": [
    "## Simulation\n",
    "---"
   ]
  },
  {
   "cell_type": "code",
   "execution_count": 8,
   "metadata": {},
   "outputs": [
    {
     "name": "stderr",
     "output_type": "stream",
     "text": [
      "/tmp/ipykernel_6590/2467453919.py:30: DeprecationWarning: `product` is deprecated as of NumPy 1.25.0, and will be removed in NumPy 2.0. Please use `prod` instead.\n",
      "  fcc_lattice *= repetitions\n",
      "/tmp/ipykernel_6590/2467453919.py:60: DeprecationWarning: `product` is deprecated as of NumPy 1.25.0, and will be removed in NumPy 2.0. Please use `prod` instead.\n",
      "  bcc_lattice *= repetitions\n",
      "/tmp/ipykernel_6590/2467453919.py:91: DeprecationWarning: `product` is deprecated as of NumPy 1.25.0, and will be removed in NumPy 2.0. Please use `prod` instead.\n",
      "  hcp_lattice *= repetitions\n"
     ]
    }
   ],
   "source": [
    "# parameter tuning\n",
    "time_elapsed = 0\n",
    "save_file_name = 'ovito/test_hcp_single.xyz'\n",
    "steps = 1000\n",
    "width = 10\n",
    "depth = 10\n",
    "height = 3\n",
    "vacancy_idx = 100\n",
    "\n",
    "atom_type_fcc = 'Cu'\n",
    "lattice_param_fcc = 3.6\n",
    "atom_type_bcc = 'Fe'\n",
    "lattice_param_bcc = 2.87\n",
    "atom_type_hcp = 'Ti'\n",
    "lattice_param_hcp = 2.94\n",
    "\n",
    "# create lattice\n",
    "lattice_fcc = create_fcc_lattice(atom_type_fcc, lattice_param_fcc, [width, depth, height])\n",
    "lattice_bcc = create_bcc_lattice(atom_type_bcc, lattice_param_bcc, [width, depth, height])\n",
    "lattice_hcp = create_hcp_lattice(atom_type_hcp, lattice_param_hcp, [width, depth, height])\n",
    "\n",
    "# make vacancy\n",
    "# lattice[vacancy_idx].symbol = 'X'\n",
    "# prev_vacncy_z = None\n",
    "# vacancy_z = lattice[vacancy_idx].position[2]\n",
    "# write(save_file_name, lattice)\n",
    "\n"
   ]
  },
  {
   "cell_type": "code",
   "execution_count": null,
   "metadata": {},
   "outputs": [],
   "source": [
    "# start simulation\n",
    "for i in range(1, steps+1):\n",
    "    prev_vacncy_z = vacancy_z\n",
    "    vacancy_z = diffuse_one_step(lattice)\n",
    "    # print(prev_vacncy_z, vacancy_z)\n",
    "    if prev_vacncy_z != vacancy_z:\n",
    "        write(save_file_name, lattice, append=True)\n",
    "    elif i % 10 == 0:\n",
    "        write(save_file_name, lattice, append=True)\n",
    "        print(f'---------------- step {i} ---------------------')\n",
    "        print(f'Time elapsed in simul: {time_elapsed} s')"
   ]
  },
  {
   "cell_type": "markdown",
   "metadata": {},
   "source": [
    "## Test area\n",
    "---"
   ]
  },
  {
   "cell_type": "code",
   "execution_count": null,
   "metadata": {},
   "outputs": [],
   "source": []
  }
 ],
 "metadata": {
  "kernelspec": {
   "display_name": "jeon",
   "language": "python",
   "name": "python3"
  },
  "language_info": {
   "codemirror_mode": {
    "name": "ipython",
    "version": 3
   },
   "file_extension": ".py",
   "mimetype": "text/x-python",
   "name": "python",
   "nbconvert_exporter": "python",
   "pygments_lexer": "ipython3",
   "version": "3.11.4"
  }
 },
 "nbformat": 4,
 "nbformat_minor": 2
}
