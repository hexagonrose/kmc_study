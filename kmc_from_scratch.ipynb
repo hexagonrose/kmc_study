{
 "cells": [
  {
   "cell_type": "markdown",
   "metadata": {},
   "source": [
    "# 하나씩 차근차근 해보아요"
   ]
  },
  {
   "cell_type": "markdown",
   "metadata": {},
   "source": [
    "## Setting"
   ]
  },
  {
   "cell_type": "code",
   "execution_count": 5,
   "metadata": {},
   "outputs": [],
   "source": [
    "import time\n",
    "import numpy as np\n",
    "import matplotlib.pyplot as plt\n",
    "import matplotlib.animation as animation\n",
    "from IPython.display import clear_output\n",
    "%matplotlib ipympl"
   ]
  },
  {
   "cell_type": "code",
   "execution_count": 6,
   "metadata": {},
   "outputs": [],
   "source": [
    "'''\n",
    "site energy -> activation energy -> diffusion rate\n",
    "\n",
    "site energy(E_i) = -N*(E_b)/2\n",
    "\n",
    "activation energy(E_a) = E_0 + alpha * E_r\n",
    "E_r = E_i(end) - E_i(start)\n",
    "\n",
    "diffusion rate = f*exp(-E_a/(k*T)) (Arrhenius)\n",
    "f is ~ 10^13 for most metals\n",
    "'''\n",
    "\n",
    "def get_site_energy(bond_energy, bond_num):\n",
    "    return -bond_num * bond_energy/2\n",
    "\n",
    "def get_activation_energy(e_start, e_end, alpha = 0.1, e0 = 0):\n",
    "    e_reaction = e_end-e_start\n",
    "    if e_reaction>=0:\n",
    "        return e0 + (1+alpha)*e_reaction\n",
    "    else:\n",
    "        return e0 + alpha*e_reaction\n",
    "\n",
    "def get_diffusion_rate(e_a, T=300, f=1E13):\n",
    "    k_B = 8.617333262145e-5  # Boltzmann constant in eV/K\n",
    "    return f*np.exp(-e_a/(k_B*T))"
   ]
  },
  {
   "cell_type": "code",
   "execution_count": 16,
   "metadata": {},
   "outputs": [],
   "source": [
    "# Parameters\n",
    "# Size of the lattice (height x width)\n",
    "width = 100  \n",
    "height = 10\n",
    "\n",
    "# parameter for diffusion rate\n",
    "bond_energy = 10 #eV\n",
    "temperature = 300\n",
    "e0 = 0.1\n",
    "\n",
    "# site energy, e_(bond number)\n",
    "e_0 = get_site_energy(bond_energy, 0)   \n",
    "e_1 = get_site_energy(bond_energy, 1)\n",
    "e_2 = get_site_energy(bond_energy, 2)\n",
    "e_3 = get_site_energy(bond_energy, 3)\n",
    "\n",
    "# activation energy, e_a_(start to end)\n",
    "e_a_3to0 = get_activation_energy(e_3, e_0, e0=e0)\n",
    "e_a_0to3 = get_activation_energy(e_0, e_3, e0=e0)\n",
    "e_a_2to3 = get_activation_energy(e_2, e_3, e0=e0)\n",
    "e_a_3to2 = get_activation_energy(e_3, e_2, e0=e0)\n",
    "e_a_3to3 = get_activation_energy(e_3, e_3, e0=e0)\n",
    "\n",
    "# diffusion rate, rate_(start to end)\n",
    "rate_3to0 = get_diffusion_rate(e_a_3to0, temperature)     \n",
    "rate_0to3 = get_diffusion_rate(e_a_0to3, temperature)              \n",
    "rate_2to3 = get_diffusion_rate(e_a_2to3, temperature)            \n",
    "rate_3to2 = get_diffusion_rate(e_a_3to2, temperature)        \n",
    "rate_3to3 = get_diffusion_rate(e_a_3to3, temperature)     \n",
    "\n",
    "steps = 100\n",
    "time_elapsed = 0"
   ]
  },
  {
   "cell_type": "code",
   "execution_count": 17,
   "metadata": {},
   "outputs": [
    {
     "data": {
      "text/plain": [
       "10000000000.0"
      ]
     },
     "execution_count": 17,
     "metadata": {},
     "output_type": "execute_result"
    }
   ],
   "source": [
    "1E10"
   ]
  },
  {
   "cell_type": "code",
   "execution_count": 9,
   "metadata": {},
   "outputs": [
    {
     "name": "stdout",
     "output_type": "stream",
     "text": [
      "-1.4 \t 3.3034281470708106e+36\n",
      "16.6 \t 1.3560438854390023e-266\n",
      "-0.4 \t 5.244501900344746e+19\n",
      "5.6 \t 8.397316849645127e-82\n",
      "0.1 \t 208965186180.88593\n"
     ]
    }
   ],
   "source": [
    "# print values\n",
    "print(e_a_0to3, '\\t',  rate_0to3)\n",
    "print(e_a_3to0, '\\t',  rate_3to0)\n",
    "print(e_a_2to3, '\\t',  rate_2to3)\n",
    "print(e_a_3to2, '\\t',  rate_3to2)\n",
    "print(e_a_3to3, '\\t',  rate_3to3)"
   ]
  },
  {
   "cell_type": "code",
   "execution_count": 10,
   "metadata": {},
   "outputs": [],
   "source": [
    "# function to initialize the lattice\n",
    "'''\n",
    "Initialize the lattice\n",
    "1 : atom\n",
    "0 : vacancy or vacumm\n",
    "2 more layer to make vacuum\n",
    "'''\n",
    "def init_lattice(width, height):\n",
    "    lattice = np.ones((height+2, width), dtype=int)\n",
    "    lattice[0, :] = 0\n",
    "    lattice[-1, :] = 0\n",
    "\n",
    "    return lattice"
   ]
  },
  {
   "cell_type": "code",
   "execution_count": 11,
   "metadata": {},
   "outputs": [],
   "source": [
    "# Function to plot the lattice of circles\n",
    "def plot_lattice(ax, width, height, atom_radius, lattice):\n",
    "    for x in range(width):\n",
    "        for y in range(height+2):\n",
    "            if lattice[y, x] == 1:\n",
    "                circle = plt.Circle((x + 0.5, y + 0.5), atom_radius, color='blue')\n",
    "                ax.add_artist(circle)\n",
    "    ax.set_xlim(0, width)\n",
    "    ax.set_ylim(0, height+2)\n",
    "    ax.set_aspect('equal')\n",
    "    ax.axis('off')\n",
    "    plt.tight_layout(pad=0.5)"
   ]
  },
  {
   "cell_type": "code",
   "execution_count": 12,
   "metadata": {},
   "outputs": [],
   "source": [
    "'''\n",
    "function that finds every possible way\n",
    "1. atom jumped from surface\n",
    "2. return to previous position(jumped from surface)\n",
    "3. atom jumped from side(at surface)\n",
    "4. atom jumped from inside\n",
    "'''\n",
    "def get_atoms_around_site(lattice, x, y, total=False):\n",
    "    height, width = lattice.shape\n",
    "    # calculate bond number\n",
    "    if y == height-1:\n",
    "        down = 0\n",
    "    else:\n",
    "        down = lattice[y+1, x]\n",
    "    if y == 0:\n",
    "        up = 0\n",
    "    else:\n",
    "        up = lattice[y-1, x]\n",
    "    # PBC at left and right\n",
    "    right = lattice[y, (x+1)%width]\n",
    "    left = lattice[y, (x-1)%width]\n",
    "    \n",
    "    if total:\n",
    "        return left+up+right+down\n",
    "    else:\n",
    "        return left, up, right, down\n",
    "\n",
    "def find_candidate(lattice):\n",
    "    global rate_0to3\n",
    "    global rate_2to3\n",
    "    global rate_3to0\n",
    "    global rate_3to2\n",
    "    global rate_3to3\n",
    "    height, width = lattice.shape\n",
    "    candidate_table = []\n",
    "    diffusion_table = []\n",
    "    motion_table = []\n",
    "    for x in range(width):\n",
    "        for y in range(height):\n",
    "            # find atom(value 1)\n",
    "            if lattice[y, x] == 1:\n",
    "                left, up, right, down = get_atoms_around_site(lattice, x, y)\n",
    "                bond_num = down + up + right + left\n",
    "                # print(bond_num)\n",
    "                # classify the atoms by bond_num\n",
    "                # 0 bond num : jumped atom from surface\n",
    "                if bond_num == 0:\n",
    "                    candidate_table.append((y, x))\n",
    "                    diffusion_table.append(rate_0to3)\n",
    "                    if y == height-1 :\n",
    "                        motion_table.append(2)\n",
    "                    else :\n",
    "                        motion_table.append(4)\n",
    "                # 2 bond num : surface atom next to vacancy\n",
    "                elif bond_num == 2:\n",
    "                    # print('find')\n",
    "                    candidate_table.append((y, x))\n",
    "                    diffusion_table.append(rate_2to3)\n",
    "                    if left == 0 :\n",
    "                        motion_table.append(1)\n",
    "                    else:\n",
    "                        motion_table.append(3)\n",
    "                # 3 bond num\n",
    "                # 3-1. surface atom\n",
    "                elif bond_num == 3:\n",
    "                    candidate_table.append((y, x))\n",
    "                    if left == 0 :\n",
    "                        num_next_site_bond = get_atoms_around_site(lattice, (x-1+width)%width, y, total=True)\n",
    "                        motion_table.append(1)\n",
    "                    elif up == 0 :\n",
    "                        num_next_site_bond = get_atoms_around_site(lattice, x, y-1, total=True)\n",
    "                        motion_table.append(2)\n",
    "                    elif right == 0 :\n",
    "                        num_next_site_bond = get_atoms_around_site(lattice, (x+1+width)%width, y, total=True)\n",
    "                        motion_table.append(3)\n",
    "                    else:\n",
    "                        num_next_site_bond = get_atoms_around_site(lattice, x, y+1, total=True)\n",
    "                        motion_table.append(4)\n",
    "                    \n",
    "                    if num_next_site_bond == 0:\n",
    "                        diffusion_table.append(rate_3to0)\n",
    "                    elif num_next_site_bond == 2:\n",
    "                        diffusion_table.append(rate_3to2)\n",
    "                    else:\n",
    "                        diffusion_table.append(rate_3to3)\n",
    "                \n",
    "    \n",
    "    return candidate_table, diffusion_table, motion_table"
   ]
  },
  {
   "cell_type": "code",
   "execution_count": 19,
   "metadata": {},
   "outputs": [],
   "source": [
    "# KMC function\n",
    "def diffuse_one_step(lattice, print_out=False):\n",
    "    global time_elapsed\n",
    "    cand, dif, motion = find_candidate(lattice)\n",
    "    dif = np.array(dif)\n",
    "\n",
    "    total_dif = np.sum(dif)\n",
    "    \n",
    "    # pick 1\n",
    "    u = np.random.uniform(low=1e-6, high=1)\n",
    "    u_time = np.random.uniform(low=1e-6, high=1)\n",
    "    cum_dif = np.cumsum(dif)\n",
    "\n",
    "    chosen_idx = np.argwhere(u*total_dif < cum_dif)[0][0]\n",
    "\n",
    "    # print information\n",
    "    print(f'total_diff : {total_dif}')\n",
    "    if print_out:\n",
    "        print(f'chosen : {cand[chosen_idx]} atom')   \n",
    "    # print(f'motion : {motion[chosen_idx]}')\n",
    "    # print(cand[chosen_idx])\n",
    "    # print(motion[chosen_idx])\n",
    "\n",
    "    # change the lattice\n",
    "    x, y = cand[chosen_idx][0], cand[chosen_idx][1]\n",
    "\n",
    "    # get motion\n",
    "    if motion[chosen_idx] == 1:\n",
    "        lattice[x, y] = 0\n",
    "        lattice[x, (y-1+width)%width] = 1\n",
    "        if print_out:\n",
    "            print(f'go left')   \n",
    "    if motion[chosen_idx] == 2:\n",
    "        lattice[x, y] = 0\n",
    "        lattice[x-1 , y] = 1\n",
    "        if print_out:\n",
    "            print(f'go up')   \n",
    "    if motion[chosen_idx] == 3:\n",
    "        lattice[x, y] = 0\n",
    "        lattice[x, (y+1)%width] = 1\n",
    "        if print_out:\n",
    "            print(f'go right')   \n",
    "    if motion[chosen_idx] == 4:\n",
    "        lattice[x, y] = 0\n",
    "        lattice[x+1 , y] = 1\n",
    "        if print_out:\n",
    "            print(f'go down')   \n",
    "    \n",
    "    # time update\n",
    "    delta_t = -np.log(u_time)/total_dif\n",
    "    time_elapsed += delta_t"
   ]
  },
  {
   "cell_type": "markdown",
   "metadata": {},
   "source": [
    "## Animation using text(fast)\n",
    "---"
   ]
  },
  {
   "cell_type": "code",
   "execution_count": 22,
   "metadata": {},
   "outputs": [],
   "source": [
    "# default Parameters\n",
    "# Size of the square lattice (height x width)\n",
    "width = 100  \n",
    "height = 10\n",
    "\n",
    "# parameter for diffusion rate\n",
    "'''\n",
    "bond energy : 200kJ/mol ~~ 2.07 eV/particle\n",
    "'''\n",
    "bond_energy = 2.07 \n",
    "temperature = 300\n",
    "\n",
    "# site energy, e_(bond number)\n",
    "e_0 = get_site_energy(bond_energy, 0)   \n",
    "e_1 = get_site_energy(bond_energy, 1)\n",
    "e_2 = get_site_energy(bond_energy, 2)\n",
    "e_3 = get_site_energy(bond_energy, 3)\n",
    "\n",
    "# activation energy, e_a_(start to end)\n",
    "e_a_3to0 = get_activation_energy(e_3, e_0)\n",
    "e_a_0to3 = get_activation_energy(e_0, e_3)\n",
    "e_a_2to3 = get_activation_energy(e_2, e_3)\n",
    "e_a_3to2 = get_activation_energy(e_3, e_2)\n",
    "e_a_3to3 = get_activation_energy(e_3, e_3)\n",
    "\n",
    "# diffusion rate, rate_(start to end)\n",
    "rate_3to0 = get_diffusion_rate(e_a_3to0, temperature)     \n",
    "rate_0to3 = get_diffusion_rate(e_a_0to3, temperature)              \n",
    "rate_2to3 = get_diffusion_rate(e_a_2to3, temperature)            \n",
    "rate_3to2 = get_diffusion_rate(e_a_3to2, temperature)        \n",
    "rate_3to3 = get_diffusion_rate(e_a_3to3, temperature)     \n",
    "\n",
    "# atom_radius = 0.4\n",
    "steps = 1000\n",
    "time_elapsed = 0"
   ]
  },
  {
   "cell_type": "code",
   "execution_count": 23,
   "metadata": {},
   "outputs": [
    {
     "name": "stdout",
     "output_type": "stream",
     "text": [
      "---------------- step 218 ---------------------\n",
      "total_diff : 1.6480929749230863e+18\n",
      "chosen : (0, 79) atom\n",
      "go down\n",
      "                                                                                                    \n",
      "\n",
      "●●●●●●●●●●●●●●●●●●●●●●●●●●●●●●●●●●●●●●●●●●●●●●●●●●●●●●●●●●●●●●●●●●●●●●●●●●●●●●●●●●●●●●●●●●●●●●●●●●●●\n",
      "\n",
      "●●●●●●●●●●●●●●●●●●●●●●●●●●●●●●●●●●●●●●●●●●●●●●●●●●●●●●●●●●●●●●●●●●●●●●●●●●●●●●●●●●●●●●●●●●●●●●●●●●●●\n",
      "\n",
      "●●●●●●●●●●●●●●●●●●●●●●●●●●●●●●●●●●●●●●●●●●●●●●●●●●●●●●●●●●●●●●●●●●●●●●●●●●●●●●●●●●●●●●●●●●●●●●●●●●●●\n",
      "\n",
      "●●●●●●●●●●●●●●●●●●●●●●●●●●●●●●●●●●●●●●●●●●●●●●●●●●●●●●●●●●●●●●●●●●●●●●●●●●●●●●●●●●●●●●●●●●●●●●●●●●●●\n",
      "\n",
      "●●●●●●●●●●●●●●●●●●●●●●●●●●●●●●●●●●●●●●●●●●●●●●●●●●●●●●●●●●●●●●●●●●●●●●●●●●●●●●●●●●●●●●●●●●●●●●●●●●●●\n",
      "\n",
      "●●●●●●●●●●●●●●●●●●●●●●●●●●●●●●●●●●●●●●●●●●●●●●●●●●●●●●●●●●●●●●●●●●●●●●●●●●●●●●●●●●●●●●●●●●●●●●●●●●●●\n",
      "\n",
      "●●●●●●●●●●●●●●●●●●●●●●●●●●●●●●●●●●●●●●●●●●●●●●●●●●●●●●●●●●●●●●●●●●●●●●●●●●●●●●●●●●●●●●●●●●●●●●●●●●●●\n",
      "\n",
      "●●●●●●●●●●●●●●●●●●●●●●●●●●●●●●●●●●●●●●●●●●●●●●●●●●●●●●●●●●●●●●●●●●●●●●●●●●●●●●●●●●●●●●●●●●●●●●●●●●●●\n",
      "\n",
      "●●●●●●●●●●●●●●●●●●●●●●●●●●●●●●●●●●●●●●●●●●●●●●●●●●●●●●●●●●●●●●●●●●●●●●●●●●●●●●●●●●●●●●●●●●●●●●●●●●●●\n",
      "\n",
      "●●●●●●●●●●●●●●●●●●●●●●●●●●●●●●●●●●●●●●●●●●●●●●●●●●●●●●●●●●●●●●●●●●●●●●●●●●●●●●●●●●●●●●●●●●●●●●●●●●●●\n",
      "\n",
      "                                                                                                    \n",
      "\n",
      "Time elapsed : 4.755942532210096e-14\n"
     ]
    },
    {
     "ename": "KeyboardInterrupt",
     "evalue": "",
     "output_type": "error",
     "traceback": [
      "\u001b[0;31m---------------------------------------------------------------------------\u001b[0m",
      "\u001b[0;31mKeyboardInterrupt\u001b[0m                         Traceback (most recent call last)",
      "\u001b[1;32m/home/hexagonrose/kmc/kmc_from_scratch.ipynb Cell 14\u001b[0m line \u001b[0;36m2\n\u001b[1;32m     <a href='vscode-notebook-cell://wsl%2Bubuntu-22.04/home/hexagonrose/kmc/kmc_from_scratch.ipynb#X15sdnNjb2RlLXJlbW90ZQ%3D%3D?line=19'>20</a>\u001b[0m draw_lattice(lattice)\n\u001b[1;32m     <a href='vscode-notebook-cell://wsl%2Bubuntu-22.04/home/hexagonrose/kmc/kmc_from_scratch.ipynb#X15sdnNjb2RlLXJlbW90ZQ%3D%3D?line=20'>21</a>\u001b[0m \u001b[39mprint\u001b[39m(\u001b[39mf\u001b[39m\u001b[39m'\u001b[39m\u001b[39mTime elapsed : \u001b[39m\u001b[39m{\u001b[39;00mtime_elapsed\u001b[39m}\u001b[39;00m\u001b[39m'\u001b[39m)\n\u001b[0;32m---> <a href='vscode-notebook-cell://wsl%2Bubuntu-22.04/home/hexagonrose/kmc/kmc_from_scratch.ipynb#X15sdnNjb2RlLXJlbW90ZQ%3D%3D?line=21'>22</a>\u001b[0m time\u001b[39m.\u001b[39msleep(\u001b[39m0.4\u001b[39m)\n\u001b[1;32m     <a href='vscode-notebook-cell://wsl%2Bubuntu-22.04/home/hexagonrose/kmc/kmc_from_scratch.ipynb#X15sdnNjb2RlLXJlbW90ZQ%3D%3D?line=23'>24</a>\u001b[0m \u001b[39m# os.system('clear')\u001b[39;00m\n\u001b[1;32m     <a href='vscode-notebook-cell://wsl%2Bubuntu-22.04/home/hexagonrose/kmc/kmc_from_scratch.ipynb#X15sdnNjb2RlLXJlbW90ZQ%3D%3D?line=24'>25</a>\u001b[0m clear_output(wait\u001b[39m=\u001b[39m\u001b[39mTrue\u001b[39;00m)\n",
      "\u001b[0;31mKeyboardInterrupt\u001b[0m: "
     ]
    }
   ],
   "source": [
    "'''\n",
    "text-based simulation\n",
    "'''\n",
    "\n",
    "def draw_lattice(lattice):\n",
    "    height, width = lattice.shape\n",
    "    for y in range(height):\n",
    "        for x in range(width):\n",
    "            if lattice[y, x] == 1:\n",
    "                print('●', end = '')\n",
    "            else:\n",
    "                print(' ', end='')\n",
    "        print('\\n')\n",
    "    \n",
    "\n",
    "lattice = init_lattice(width, height)\n",
    "for i in range(1, steps+1):\n",
    "    print(f'---------------- step {i} ---------------------')\n",
    "    diffuse_one_step(lattice, True)\n",
    "    draw_lattice(lattice)\n",
    "    print(f'Time elapsed : {time_elapsed}')\n",
    "    time.sleep(0.4)\n",
    "    \n",
    "    # os.system('clear')\n",
    "    clear_output(wait=True)\n",
    "    # fig, ax = plt.subplots(figsize=(10, 2))\n",
    "    # plot_lattice(ax, width, height, atom_radius, lattice)\n"
   ]
  },
  {
   "cell_type": "code",
   "execution_count": 18,
   "metadata": {},
   "outputs": [
    {
     "data": {
      "text/plain": [
       "1.0"
      ]
     },
     "execution_count": 18,
     "metadata": {},
     "output_type": "execute_result"
    }
   ],
   "source": [
    "np.log(np.e)"
   ]
  },
  {
   "cell_type": "code",
   "execution_count": null,
   "metadata": {},
   "outputs": [],
   "source": []
  }
 ],
 "metadata": {
  "kernelspec": {
   "display_name": "jeon",
   "language": "python",
   "name": "python3"
  },
  "language_info": {
   "codemirror_mode": {
    "name": "ipython",
    "version": 3
   },
   "file_extension": ".py",
   "mimetype": "text/x-python",
   "name": "python",
   "nbconvert_exporter": "python",
   "pygments_lexer": "ipython3",
   "version": "3.11.4"
  },
  "orig_nbformat": 4
 },
 "nbformat": 4,
 "nbformat_minor": 2
}
