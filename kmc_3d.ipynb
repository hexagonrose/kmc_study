{
 "cells": [
  {
   "cell_type": "markdown",
   "metadata": {},
   "source": [
    "# KMC 3D확장 후로젝트"
   ]
  },
  {
   "cell_type": "markdown",
   "metadata": {},
   "source": [
    "# Algorithm\n",
    "---"
   ]
  },
  {
   "cell_type": "code",
   "execution_count": 1,
   "metadata": {},
   "outputs": [],
   "source": [
    "import time\n",
    "import numpy as np\n",
    "import matplotlib.pyplot as plt\n",
    "import os"
   ]
  },
  {
   "cell_type": "code",
   "execution_count": 2,
   "metadata": {},
   "outputs": [],
   "source": [
    "'''\n",
    "site energy -> activation energy -> diffusion rate\n",
    "\n",
    "site energy(E_i) = -N*(E_b)/2\n",
    "\n",
    "activation energy(E_a) = E_0 + alpha * E_r\n",
    "E_r = E_i(end) - E_i(start)\n",
    "\n",
    "diffusion rate = f*exp(-E_a/(k*T)) (Arrhenius)\n",
    "f is ~ 10^13 for most metals\n",
    "'''\n",
    "\n",
    "def get_site_energy(bond_energy, bond_num):\n",
    "    return -bond_num * bond_energy/2\n",
    "\n",
    "def get_activation_energy(e_start, e_end, alpha = 0.1, e0 = 0):\n",
    "    e_reaction = e_end-e_start\n",
    "    if e_reaction>=0:\n",
    "        return e0 + (1+alpha)*e_reaction\n",
    "    else:\n",
    "        return e0 + alpha*e_reaction\n",
    "\n",
    "def get_diffusion_rate(e_a, T=300, f=1E13):\n",
    "    k_B = 8.617333262145e-5  # Boltzmann constant in eV/K\n",
    "    return f*np.exp(-e_a/(k_B*T))"
   ]
  },
  {
   "cell_type": "code",
   "execution_count": 3,
   "metadata": {},
   "outputs": [],
   "source": [
    "# parameter for diffusion rate\n",
    "'''\n",
    "bond energy : 200kJ/mol ~~ 2.07 eV/particle\n",
    "'''\n",
    "bond_energy = 2.07 \n",
    "temperature = 700\n",
    "e0 = 0.1\n",
    "\n",
    "# site energy, e_(bond number)\n",
    "e_site = np.zeros(6)\n",
    "for i in range(6):\n",
    "    e_site[i] = get_site_energy(bond_energy, i)\n",
    "\n",
    "# activation energy, e_a_(start to end)\n",
    "e_a = np.zeros((6, 6))\n",
    "for i in range(6):\n",
    "    for j in range(6):\n",
    "        e_a[i, j] = get_activation_energy(e_site[i], e_site[j], e0=e0)\n",
    "\n",
    "# diffusion rate, rate_(start to end)\n",
    "diffusion_rate = np.zeros((6, 6))\n",
    "for i in range(6):\n",
    "    for j in range(6):\n",
    "        diffusion_rate[i, j] = get_diffusion_rate(e_a[i, j], temperature)\n",
    "   \n"
   ]
  },
  {
   "cell_type": "code",
   "execution_count": 4,
   "metadata": {},
   "outputs": [
    {
     "name": "stdout",
     "output_type": "stream",
     "text": [
      "[ 0.    -1.035 -2.07  -3.105 -4.14  -5.175]\n",
      "-----------------\n",
      "[[ 1.0000e-01 -3.5000e-03 -1.0700e-01 -2.1050e-01 -3.1400e-01 -4.1750e-01]\n",
      " [ 1.2385e+00  1.0000e-01 -3.5000e-03 -1.0700e-01 -2.1050e-01 -3.1400e-01]\n",
      " [ 2.3770e+00  1.2385e+00  1.0000e-01 -3.5000e-03 -1.0700e-01 -2.1050e-01]\n",
      " [ 3.5155e+00  2.3770e+00  1.2385e+00  1.0000e-01 -3.5000e-03 -1.0700e-01]\n",
      " [ 4.6540e+00  3.5155e+00  2.3770e+00  1.2385e+00  1.0000e-01 -3.5000e-03]\n",
      " [ 5.7925e+00  4.6540e+00  3.5155e+00  2.3770e+00  1.2385e+00  1.0000e-01]]\n",
      "-----------------\n",
      "[[1.90559975e+12 1.05973894e+13 5.89340238e+13 3.27742904e+14\n",
      "  1.82263833e+15 1.01360257e+16]\n",
      " [1.21113472e+04 1.90559975e+12 1.05973894e+13 5.89340238e+13\n",
      "  3.27742904e+14 1.82263833e+15]\n",
      " [7.69756242e-05 1.21113472e+04 1.90559975e+12 1.05973894e+13\n",
      "  5.89340238e+13 3.27742904e+14]\n",
      " [4.89231019e-13 7.69756242e-05 1.21113472e+04 1.90559975e+12\n",
      "  1.05973894e+13 5.89340238e+13]\n",
      " [3.10938680e-21 4.89231019e-13 7.69756242e-05 1.21113472e+04\n",
      "  1.90559975e+12 1.05973894e+13]\n",
      " [1.97622103e-29 3.10938680e-21 4.89231019e-13 7.69756242e-05\n",
      "  1.21113472e+04 1.90559975e+12]]\n"
     ]
    }
   ],
   "source": [
    "# value check\n",
    "print(e_site)\n",
    "print('-----------------')\n",
    "print(e_a)\n",
    "print('-----------------')\n",
    "print(diffusion_rate)\n"
   ]
  },
  {
   "cell_type": "code",
   "execution_count": 5,
   "metadata": {},
   "outputs": [],
   "source": [
    "# function to initialize the lattice\n",
    "'''\n",
    "Initialize the lattice\n",
    "1 : atom\n",
    "0 : vacancy or vacumm\n",
    "2 more layer to make vacuum\n",
    "'''\n",
    "def init_3d_lattice(height, width, depth):\n",
    "    lattice = np.ones((height+2, width, depth), dtype=int)\n",
    "    lattice[0, :, :] = 0\n",
    "    lattice[-1, :, :] = 0\n",
    "\n",
    "    return lattice"
   ]
  },
  {
   "cell_type": "code",
   "execution_count": 6,
   "metadata": {},
   "outputs": [
    {
     "name": "stdout",
     "output_type": "stream",
     "text": [
      "[[1 1 1 1 1 1]\n",
      " [1 0 1 1 1 1]\n",
      " [1 1 1 1 1 1]\n",
      " [1 1 1 1 1 1]\n",
      " [1 1 1 1 1 1]]\n"
     ]
    }
   ],
   "source": [
    "# test\n",
    "test_lattice = init_3d_lattice(4, 5, 6)\n",
    "test_lattice[1, 1, 1] = 0\n",
    "print(test_lattice[1])"
   ]
  },
  {
   "cell_type": "code",
   "execution_count": 7,
   "metadata": {},
   "outputs": [],
   "source": [
    "# Function to plot the lattice of circles\n",
    "def plot_lattice(ax, width, height, atom_radius, lattice):\n",
    "    for x in range(width):\n",
    "        for y in range(height+2):\n",
    "            if lattice[y, x] == 1:\n",
    "                circle = plt.Circle((x + 0.5, y + 0.5), atom_radius, color='blue')\n",
    "                ax.add_artist(circle)\n",
    "    ax.set_xlim(0, width)\n",
    "    ax.set_ylim(0, height+2)\n",
    "    ax.set_aspect('equal')\n",
    "    ax.axis('off')\n",
    "    plt.tight_layout(pad=0.5)"
   ]
  },
  {
   "cell_type": "code",
   "execution_count": 8,
   "metadata": {},
   "outputs": [],
   "source": [
    "# Function to draw lattice on prompt\n",
    "def draw_3d_lattice(lattice):\n",
    "    height, width, depth = lattice.shape\n",
    "    for z in range(height):\n",
    "        for x in range(width):\n",
    "            for y in range(depth):\n",
    "                if lattice[z, x, y] == 1:\n",
    "                    print('●', end = '')\n",
    "                else:\n",
    "                    print(' ', end='')\n",
    "            print('\\n')\n",
    "        print('\\n')"
   ]
  },
  {
   "cell_type": "code",
   "execution_count": 9,
   "metadata": {},
   "outputs": [],
   "source": [
    "# Function to save lattice\n",
    "def save_lattice(lattice, output_filename):\n",
    "    # Check if the file already exists, and if so, remove it\n",
    "    try:\n",
    "        with open(output_filename, 'x'):\n",
    "            pass\n",
    "    except FileExistsError:\n",
    "        pass\n",
    "\n",
    "    # Perform iterative saving\n",
    "   \n",
    "    with open(output_filename, 'ab') as file:\n",
    "        np.savetxt(file, lattice, fmt='%d', delimiter=' ')\n",
    "        file.write(b'\\n')\n",
    "\n",
    "# lattice to xyz\n",
    "def save_matrix_as_xyz(matrix, output_filename):\n",
    "    with open(output_filename, 'a') as output_file:\n",
    "        num_atoms = int(np.sum(matrix))  # Calculate the number of Cu atoms (1s)\n",
    "\n",
    "        # Write the number of atoms as the first line in the XYZ file\n",
    "        output_file.write(f\"{num_atoms}\\n\\n\")\n",
    "\n",
    "        # Iterate through the matrix to write the atom positions\n",
    "        for i in range(matrix.shape[0]):\n",
    "            for j in range(matrix.shape[1]):\n",
    "                for k in range(matrix.shape[2]):\n",
    "                    if matrix[i, j, k] == 1:  # Cu atom\n",
    "                        output_file.write(f\"Cu {i} {j} {k}\\n\")"
   ]
  },
  {
   "cell_type": "code",
   "execution_count": 10,
   "metadata": {},
   "outputs": [],
   "source": [
    "'''\n",
    "function that finds every possible way\n",
    "1. atom jumped from surface\n",
    "2. return to previous position(jumped from surface)\n",
    "3. other diffusion...\n",
    "'''\n",
    "def get_atoms_around_site(lattice, z, x, y, total=False):\n",
    "    height, width, depth = lattice.shape\n",
    "    # calculate bond number\n",
    "    if z == height-1:\n",
    "        down = 0\n",
    "    else:\n",
    "        down = lattice[z+1, x, y]\n",
    "    if z == 0:\n",
    "        up = 0\n",
    "    else:\n",
    "        up = lattice[z-1, x, y]\n",
    "    # PBC at left and right\n",
    "    right = lattice[z, x, (y+1)%depth]\n",
    "    left = lattice[z, x, (y-1)%depth]\n",
    "    forward = lattice[z, (x-1)%width, y]\n",
    "    back = lattice[z, (x+1)%width, y]\n",
    "    \n",
    "    if total:\n",
    "        return left+up+right+down+forward+back\n",
    "    else:\n",
    "        return up, down, left, forward, right, back\n",
    "\n",
    "def find_candidate(lattice):\n",
    "    global e_a\n",
    "    global diffusion_rate\n",
    "    height, width, depth = lattice.shape\n",
    "    candidate_table = []\n",
    "    diffusion_table = []\n",
    "    motion_table = []\n",
    "    for z in range(height):\n",
    "        for x in range(width):\n",
    "            for y in range(depth):\n",
    "                # find vacancy\n",
    "                if lattice[z, x, y] == 0:\n",
    "                    up, down, left, forward, right, back = get_atoms_around_site(lattice, z, x, y)\n",
    "                    neighbor = left+up+right+down+forward+back\n",
    "                    if neighbor:\n",
    "                        '''\n",
    "                        motion table\n",
    "                        1 : up     2 : down     3 : left       4 : forward      5 : right       6 : back\n",
    "                        '''\n",
    "                        if up:\n",
    "                            neighbor_of_up = get_atoms_around_site(lattice, z-1, x, y, True)\n",
    "                            candidate_table.append((z-1, x, y))\n",
    "                            motion_table.append(2)\n",
    "                            diffusion_table.append(diffusion_rate[neighbor_of_up, neighbor-1])\n",
    "                        if down:\n",
    "                            neighbor_of_down = get_atoms_around_site(lattice, z+1, x, y, True)\n",
    "                            candidate_table.append((z+1, x, y))\n",
    "                            motion_table.append(1)\n",
    "                            diffusion_table.append(diffusion_rate[neighbor_of_down, neighbor-1]) \n",
    "                        if left:\n",
    "                            neighbor_of_left = get_atoms_around_site(lattice, z, x, (y-1)%depth, True)\n",
    "                            candidate_table.append((z, x, (y-1)%depth))\n",
    "                            motion_table.append(5)\n",
    "                            diffusion_table.append(diffusion_rate[neighbor_of_left, neighbor-1])\n",
    "                        if forward:\n",
    "                            neighbor_of_forward = get_atoms_around_site(lattice, z, (x-1)%width, y, True)\n",
    "                            candidate_table.append((z, (x-1)%width, y))\n",
    "                            motion_table.append(6)\n",
    "                            diffusion_table.append(diffusion_rate[neighbor_of_forward, neighbor-1]) \n",
    "                        if right:\n",
    "                            neighbor_of_right = get_atoms_around_site(lattice, z, x, (y+1)%depth, True)\n",
    "                            candidate_table.append((z, x, (y+1)%depth))\n",
    "                            motion_table.append(3)\n",
    "                            diffusion_table.append(diffusion_rate[neighbor_of_right, neighbor-1])\n",
    "                        if back:\n",
    "                            neighbor_of_back = get_atoms_around_site(lattice, z, (x+1)%width, y, True)\n",
    "                            candidate_table.append((z, (x+1)%width, y))\n",
    "                            motion_table.append(4)\n",
    "                            diffusion_table.append(diffusion_rate[neighbor_of_back, neighbor-1]) \n",
    "    \n",
    "    return candidate_table, diffusion_table, motion_table"
   ]
  },
  {
   "cell_type": "code",
   "execution_count": 11,
   "metadata": {},
   "outputs": [
    {
     "data": {
      "text/plain": [
       "(0, 1, 1, 1, 1, 1)"
      ]
     },
     "execution_count": 11,
     "metadata": {},
     "output_type": "execute_result"
    }
   ],
   "source": [
    "# test\n",
    "test_lattice[1, 1, 2] = 0\n",
    "# print(test_lattice[0])\n",
    "# print(test_lattice[1])\n",
    "# print(test_lattice[2])\n",
    "get_atoms_around_site(test_lattice, 2, 1, 2)\n",
    "# draw_3d_lattice(test_lattice)"
   ]
  },
  {
   "cell_type": "code",
   "execution_count": 12,
   "metadata": {},
   "outputs": [],
   "source": [
    "# KMC function\n",
    "def diffuse_one_step(lattice, print_out=False):\n",
    "    global time_elapsed\n",
    "    width, depth = lattice.shape[1], lattice.shape[2]\n",
    "\n",
    "    cand, dif, motion = find_candidate(lattice)\n",
    "    dif = np.array(dif)\n",
    "\n",
    "    total_dif = np.sum(dif)\n",
    "    \n",
    "    # pick 1\n",
    "    u = np.random.uniform(low=1e-6, high=1)\n",
    "    u_time = np.random.uniform(low=1e-6, high=1)\n",
    "    cum_dif = np.cumsum(dif)\n",
    "\n",
    "    chosen_idx = np.argwhere(u*total_dif < cum_dif)[0][0]\n",
    "\n",
    "    # print information\n",
    "    if print_out:\n",
    "        print(f'total_diff : {total_dif}')\n",
    "        print(f'chosen : {cand[chosen_idx]} atom')   \n",
    "    # print(f'motion : {motion[chosen_idx]}')\n",
    "    # print(cand[chosen_idx])\n",
    "    # print(motion[chosen_idx])\n",
    "\n",
    "    # change the lattice\n",
    "    z, x, y = cand[chosen_idx][0], cand[chosen_idx][1], cand[chosen_idx][2]\n",
    "\n",
    "    # get motion\n",
    "    if motion[chosen_idx] == 1:\n",
    "        lattice[z, x, y] = 0\n",
    "        lattice[z-1, x, y] = 1\n",
    "        if print_out:\n",
    "            print(f'go up')   \n",
    "    if motion[chosen_idx] == 2:\n",
    "        lattice[z, x, y] = 0\n",
    "        lattice[z+1, x, y] = 1\n",
    "        if print_out:\n",
    "            print(f'go down')   \n",
    "    if motion[chosen_idx] == 3:\n",
    "        lattice[z, x, y] = 0\n",
    "        lattice[z, x, (y-1)%depth] = 1\n",
    "        if print_out:\n",
    "            print(f'go left')   \n",
    "    if motion[chosen_idx] == 4:\n",
    "        lattice[z, x, y] = 0\n",
    "        lattice[z, (x-1)%width, y] = 1\n",
    "        if print_out:\n",
    "            print(f'go forward')   \n",
    "    if motion[chosen_idx] == 5:\n",
    "        lattice[z, x, y] = 0\n",
    "        lattice[z, x, (y+1)%depth] = 1\n",
    "        if print_out:\n",
    "            print(f'go right')   \n",
    "    if motion[chosen_idx] == 6:\n",
    "        lattice[z, x, y] = 0\n",
    "        lattice[z, (x+1)%width, y] = 1\n",
    "        if print_out:\n",
    "            print(f'go back')   \n",
    "    \n",
    "    # time update\n",
    "    delta_t = -np.log(u_time)/total_dif\n",
    "    # print(f'delta_t : {delta_t}')\n",
    "    time_elapsed += delta_t"
   ]
  },
  {
   "cell_type": "markdown",
   "metadata": {},
   "source": [
    "## Simulation\n",
    "---"
   ]
  },
  {
   "cell_type": "code",
   "execution_count": 14,
   "metadata": {},
   "outputs": [],
   "source": [
    "# Parameters\n",
    "# Size of the lattice (height x width)\n",
    "width = 10\n",
    "depth = 5  \n",
    "height = 3\n",
    "\n",
    "# parameter for diffusion rate\n",
    "'''\n",
    "bond energy : 200kJ/mol ~~ 2.07 eV/particle\n",
    "'''\n",
    "bond_energy = 2.07 \n",
    "temperature = 700\n",
    "e0 = 0.1\n",
    "\n",
    "# site energy, e_(bond number)\n",
    "e_site = np.zeros(6)\n",
    "for i in range(6):\n",
    "    e_site[i] = get_site_energy(bond_energy, i)\n",
    "\n",
    "# activation energy, e_a_(start to end)\n",
    "e_a = np.zeros((6, 6))\n",
    "for i in range(6):\n",
    "    for j in range(6):\n",
    "        e_a[i, j] = get_activation_energy(e_site[i], e_site[j], e0=e0)\n",
    "\n",
    "# diffusion rate, rate_(start to end)\n",
    "diffusion_rate = np.zeros((6, 6))\n",
    "for i in range(6):\n",
    "    for j in range(6):\n",
    "        diffusion_rate[i, j] = get_diffusion_rate(e_a[i, j], temperature)\n",
    "   \n",
    "  \n",
    "steps = 100\n",
    "time_elapsed = 0"
   ]
  },
  {
   "cell_type": "code",
   "execution_count": 15,
   "metadata": {},
   "outputs": [
    {
     "name": "stdout",
     "output_type": "stream",
     "text": [
      "[[1.90559975e+12 1.05973894e+13 5.89340238e+13 3.27742904e+14\n",
      "  1.82263833e+15 1.01360257e+16]\n",
      " [1.21113472e+04 1.90559975e+12 1.05973894e+13 5.89340238e+13\n",
      "  3.27742904e+14 1.82263833e+15]\n",
      " [7.69756242e-05 1.21113472e+04 1.90559975e+12 1.05973894e+13\n",
      "  5.89340238e+13 3.27742904e+14]\n",
      " [4.89231019e-13 7.69756242e-05 1.21113472e+04 1.90559975e+12\n",
      "  1.05973894e+13 5.89340238e+13]\n",
      " [3.10938680e-21 4.89231019e-13 7.69756242e-05 1.21113472e+04\n",
      "  1.90559975e+12 1.05973894e+13]\n",
      " [1.97622103e-29 3.10938680e-21 4.89231019e-13 7.69756242e-05\n",
      "  1.21113472e+04 1.90559975e+12]]\n"
     ]
    }
   ],
   "source": [
    "print(diffusion_rate)"
   ]
  },
  {
   "cell_type": "code",
   "execution_count": 16,
   "metadata": {},
   "outputs": [
    {
     "name": "stdout",
     "output_type": "stream",
     "text": [
      "---------------- step 1000 ---------------------\n",
      "Time elapsed in simul: 4.200913250958478e+26 s\n",
      "Real time elapsed : 68.4084997177124 s\n",
      "---------------- step 2000 ---------------------\n",
      "Time elapsed in simul: 4.200913250958478e+26 s\n",
      "Real time elapsed : 137.6679515838623 s\n",
      "---------------- step 3000 ---------------------\n",
      "Time elapsed in simul: 4.200913250958478e+26 s\n",
      "Real time elapsed : 205.94603085517883 s\n",
      "---------------- step 4000 ---------------------\n",
      "Time elapsed in simul: 4.200913250958478e+26 s\n",
      "Real time elapsed : 274.69613766670227 s\n",
      "---------------- step 5000 ---------------------\n",
      "Time elapsed in simul: 4.200913250958478e+26 s\n",
      "Real time elapsed : 342.7804205417633 s\n",
      "---------------- step 6000 ---------------------\n",
      "Time elapsed in simul: 4.200913250958478e+26 s\n",
      "Real time elapsed : 412.68895745277405 s\n",
      "---------------- step 7000 ---------------------\n",
      "Time elapsed in simul: 4.200913250958478e+26 s\n",
      "Real time elapsed : 481.3501148223877 s\n",
      "---------------- step 8000 ---------------------\n",
      "Time elapsed in simul: 4.200913250958478e+26 s\n",
      "Real time elapsed : 549.9365162849426 s\n",
      "---------------- step 9000 ---------------------\n",
      "Time elapsed in simul: 4.200913250958478e+26 s\n",
      "Real time elapsed : 618.8025517463684 s\n",
      "---------------- step 10000 ---------------------\n",
      "Time elapsed in simul: 4.200913250958478e+26 s\n",
      "Real time elapsed : 687.3150200843811 s\n"
     ]
    }
   ],
   "source": [
    "'''\n",
    "3d simulation\n",
    "It's hard to draw 3d lattice on prompt...\n",
    "'''\n",
    "# parameter tuning\n",
    "steps = 10000\n",
    "width = 100\n",
    "depth = 100\n",
    "height = 6\n",
    "time_elapsed = 0\n",
    "save_file_name = '100_100_10_st10000.xyz'\n",
    "lattice_depo = []\n",
    "\n",
    "lattice = init_3d_lattice(height, width, depth)\n",
    "# lattice_depo.append(lattice.copy())\n",
    "save_matrix_as_xyz(lattice, save_file_name)\n",
    "# save_lattice(lattice, save_file_name)\n",
    "atom_num = lattice.sum()\n",
    "real_time_start = time.time()\n",
    "for i in range(1, steps+1):\n",
    "    diffuse_one_step(lattice)\n",
    "    save_matrix_as_xyz(lattice, save_file_name)\n",
    "    # lattice_depo.append(lattice.copy())\n",
    "    if i % 1000 == 0:\n",
    "        real_time_check = time.time()\n",
    "        print(f'---------------- step {i} ---------------------')\n",
    "        print(f'Time elapsed in simul: {time_elapsed} s')\n",
    "        print(f'Real time elapsed : {real_time_check-real_time_start} s')\n",
    "    \n",
    "    if lattice.sum() != atom_num:\n",
    "        print('error!')\n",
    "        break\n",
    "    # time.sleep(0.2)\n",
    "\n"
   ]
  },
  {
   "cell_type": "code",
   "execution_count": null,
   "metadata": {},
   "outputs": [],
   "source": [
    "# save to xyz file directly\n",
    "# for lat in lattice_depo:\n",
    "#     save_matrix_as_xyz(lat, save_file_name)"
   ]
  },
  {
   "cell_type": "markdown",
   "metadata": {},
   "source": [
    "# Start with vacancy\n",
    "---"
   ]
  },
  {
   "cell_type": "code",
   "execution_count": 21,
   "metadata": {},
   "outputs": [
    {
     "name": "stdout",
     "output_type": "stream",
     "text": [
      "---------------- step 100 ---------------------\n",
      "total_diff : 417930372361.77185\n",
      "chosen : (10, 67) atom\n",
      "go left\n",
      "                                                                                                    \n",
      "\n",
      "●●●●●●●●●●●●●●●●●●●●●●●●●●●●●●●●●●●●●●●●●●●●●●●●●●●●●●●●●●●●●●●●●●●●●●●●●●●●●●●●●●●●●●●●●●●●●●●●●●●●\n",
      "\n",
      "●●●●●●●●●●●●●●●●●●●●●●●●●●●●●●●●●●●●●●●●●●●●●●●●●●●●●●●●●●●●●●●●●●●●●●●●●●●●●●●●●●●●●●●●●●●●●●●●●●●●\n",
      "\n",
      "●●●●●●●●●●●●●●●●●●●●●●●●●●●●●●●●●●●●●●●●●●●●●●●●●●●●●●●●●●●●●●●●●●●●●●●●●●●●●●●●●●●●●●●●●●●●●●●●●●●●\n",
      "\n",
      "●●●●●●●●●●●●●●●●●●●●●●●●●●●●●●●●●●●●●●●●●●●●●●●●●●●●●●●●●●●●●●●●●●●●●●●●●●●●●●●●●●●●●●●●●●●●●●●●●●●●\n",
      "\n",
      "●●●●●●●●●●●●●●●●●●●●●●●●●●●●●●●●●●●●●●●●●●●●●●●●●●●●●●●●●●●●●●●●●●●●●●●●●●●●●●●●●●●●●●●●●●●●●●●●●●●●\n",
      "\n",
      "●●●●●●●●●●●●●●●●●●●●●●●●●●●●●●●●●●●●●●●●●●●●●●●●●●●●●●●●●●●●●●●●●●●●●●●●●●●●●●●●●●●●●●●●●●●●●●●●●●●●\n",
      "\n",
      "●●●●●●●●●●●●●●●●●●●●●●●●●●●●●●●●●●●●●●●●●●●●●●●●●●●●●●●●●●●●●●●●●●●●●●●●●●●●●●●●●●●●●●●●●●●●●●●●●●●●\n",
      "\n",
      "●●●●●●●●●●●●●●●●●●●●●●●●●●●●●●●●●●●●●●●●●●●●●●●●●●●●●●●●●●●●●●●●●●●●●●●●●●●●●●●●●●●●●●●●●●●●●●●●●●●●\n",
      "\n",
      "●●●●●●●●●●●●●●●●●●●●●●●●●●●●●●●●●●●●●●●●●●●●●●●●●●●●●●●●●●●●●●●●●●●●●●●●●●●●●●●●●●●●●●●●●●●●●●●●●●●●\n",
      "\n",
      "●●●●●●●●●●●●●●●●●●●●●●●●●●●●●●●●●●●●●●●●●●●●●●●●●●●●●●●●●●●●●●●●●●● ●●●●●●●●●●●●●●●●●●●●●●●●●●●●●●●●\n",
      "\n",
      "                                                                                                    \n",
      "\n",
      "Time elapsed : 2.1002611507094887e-10 s\n",
      "\u001b[H\u001b[2J"
     ]
    }
   ],
   "source": [
    "'''\n",
    "start simulation with one vacancy\n",
    "'''\n",
    "# parameter tuning\n",
    "steps = 100\n",
    "width = 100\n",
    "height = 10\n",
    "time_elapsed = 0\n",
    "'-----------------------------------------------------------------'\n",
    "\n",
    "\n",
    "# initialize\n",
    "lattice = init_lattice(width, height)\n",
    "\n",
    "# make vacancy\n",
    "lattice[5, 50] = 0\n",
    "for i in range(1, steps+1):\n",
    "    print(f'---------------- step {i} ---------------------')\n",
    "    diffuse_one_step(lattice, True)\n",
    "    draw_lattice(lattice)\n",
    "    print(f'Time elapsed : {time_elapsed} s')\n",
    "    time.sleep(0.4)\n",
    "    \n",
    "    os.system('clear')\n",
    "    clear_output(wait=True)"
   ]
  },
  {
   "cell_type": "code",
   "execution_count": 47,
   "metadata": {},
   "outputs": [
    {
     "name": "stdout",
     "output_type": "stream",
     "text": [
      "---------------- step 1000 ---------------------\n",
      "Time elapsed : 2.5593605100587533e-10 s\n",
      "---------------- step 2000 ---------------------\n",
      "Time elapsed : 5.29326820110763e-10 s\n",
      "---------------- step 3000 ---------------------\n",
      "Time elapsed : 7.922695829227711e-10 s\n",
      "---------------- step 4000 ---------------------\n",
      "Time elapsed : 1.0562340177351715e-09 s\n",
      "---------------- step 5000 ---------------------\n",
      "Time elapsed : 1.3173568931482398e-09 s\n",
      "---------------- step 6000 ---------------------\n",
      "Time elapsed : 1.5835682176808373e-09 s\n",
      "---------------- step 7000 ---------------------\n",
      "Time elapsed : 1.8564033993476096e-09 s\n",
      "---------------- step 8000 ---------------------\n",
      "Time elapsed : 2.1282875956763153e-09 s\n",
      "---------------- step 9000 ---------------------\n",
      "Time elapsed : 2.3835161816815982e-09 s\n",
      "---------------- step 10000 ---------------------\n",
      "Time elapsed : 2.6584171177304157e-09 s\n"
     ]
    }
   ],
   "source": [
    "# vacancy + no visualize\n",
    "# parameter tuning\n",
    "steps = 10000\n",
    "width = 300\n",
    "height = 20\n",
    "time_elapsed = 0\n",
    "'-----------------------------------------------------------------'\n",
    "\n",
    "lattice = init_lattice(width, height)\n",
    "\n",
    "# make vacancy\n",
    "lattice[10, 150] = 0\n",
    "\n",
    "atom_num = lattice.sum()\n",
    "for i in range(1, steps+1):\n",
    "    diffuse_one_step(lattice)\n",
    "    if i % 1000 == 0:\n",
    "        print(f'---------------- step {i} ---------------------')\n",
    "        print(f'Time elapsed : {time_elapsed} s')\n",
    "        if lattice.sum() != atom_num:\n",
    "            print('error!')\n",
    "            break"
   ]
  },
  {
   "cell_type": "markdown",
   "metadata": {},
   "source": [
    "# step by step check"
   ]
  },
  {
   "cell_type": "code",
   "execution_count": 115,
   "metadata": {},
   "outputs": [
    {
     "name": "stdout",
     "output_type": "stream",
     "text": [
      "1000\n"
     ]
    }
   ],
   "source": [
    "# init\n",
    "height = 5\n",
    "width = 10\n",
    "depth = 20\n",
    "lattice = init_3d_lattice(height, width, depth)\n",
    "print(lattice.sum())"
   ]
  },
  {
   "cell_type": "code",
   "execution_count": 116,
   "metadata": {},
   "outputs": [
    {
     "name": "stdout",
     "output_type": "stream",
     "text": [
      "total_diff : 7.904884116549141e-27\n",
      "chosen : (5, 1, 12) atom\n",
      "go up\n"
     ]
    }
   ],
   "source": [
    "# step1\n",
    "diffuse_one_step(lattice, True)"
   ]
  },
  {
   "cell_type": "code",
   "execution_count": 124,
   "metadata": {},
   "outputs": [
    {
     "data": {
      "text/plain": [
       "199"
      ]
     },
     "execution_count": 124,
     "metadata": {},
     "output_type": "execute_result"
    }
   ],
   "source": [
    "lattice[5].sum()"
   ]
  },
  {
   "cell_type": "code",
   "execution_count": 72,
   "metadata": {},
   "outputs": [],
   "source": [
    "# step2\n",
    "diffuse_one_step(lattice, True)"
   ]
  },
  {
   "cell_type": "code",
   "execution_count": 77,
   "metadata": {},
   "outputs": [],
   "source": [
    "cand, dif, motion = find_candidate(lattice)"
   ]
  },
  {
   "cell_type": "code",
   "execution_count": 67,
   "metadata": {},
   "outputs": [
    {
     "name": "stdout",
     "output_type": "stream",
     "text": [
      "3150303124.857064\n"
     ]
    }
   ],
   "source": [
    "dif = np.array(dif)\n",
    "total_dif = np.sum(dif)\n",
    "u_time = np.random.uniform(low=1e-6, high=1)\n",
    "delta_t = -np.log(u_time)/total_dif\n",
    "print(delta_t)"
   ]
  }
 ],
 "metadata": {
  "kernelspec": {
   "display_name": "jeon",
   "language": "python",
   "name": "python3"
  },
  "language_info": {
   "codemirror_mode": {
    "name": "ipython",
    "version": 3
   },
   "file_extension": ".py",
   "mimetype": "text/x-python",
   "name": "python",
   "nbconvert_exporter": "python",
   "pygments_lexer": "ipython3",
   "version": "3.11.4"
  },
  "orig_nbformat": 4
 },
 "nbformat": 4,
 "nbformat_minor": 2
}
